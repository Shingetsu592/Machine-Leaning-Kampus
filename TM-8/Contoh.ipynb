{
 "cells": [
  {
   "cell_type": "code",
   "execution_count": 1,
   "metadata": {},
   "outputs": [],
   "source": [
    "import numpy as np"
   ]
  },
  {
   "cell_type": "code",
   "execution_count": 2,
   "metadata": {},
   "outputs": [],
   "source": [
    "# Define the fuzzy sets for homework and exam scores\n",
    "homework_low = np.array([0, 30, 60])\n",
    "homework_medium = np.array([30, 70, 100])\n",
    "homework_high = np.array([70, 100, 100])\n",
    "\n",
    "exam_low = np.array([0, 30, 60])\n",
    "exam_medium = np.array([30, 70, 100])\n",
    "exam_high = np.array([70, 100, 100])\n",
    "\n",
    "# Define the input values (homework and exam scores)\n",
    "homework_score = 80  # For example, homework score of 45\n",
    "exam_score = 75     # For example, exam score of 75\n",
    "\n",
    "# Calculate the membership values for each input in the fuzzy sets\n",
    "homework_low_membership = np.interp(homework_score, homework_low, [0, 1, 0])\n",
    "homework_medium_membership = np.interp(homework_score, homework_medium, [0, 1, 0])\n",
    "homework_high_membership = np.interp(homework_score, homework_high, [0, 1, 0])\n",
    "\n",
    "exam_low_membership = np.interp(exam_score, exam_low, [0, 1, 0])\n",
    "exam_medium_membership = np.interp(exam_score, exam_medium, [0, 1, 0])\n",
    "exam_high_membership = np.interp(exam_score, exam_high, [0, 1, 0])\n",
    "\n",
    "# Define the fuzzy rules\n",
    "rules = [\n",
    "    (min(homework_low_membership, exam_low_membership), \"grade_low\"),\n",
    "    (min(homework_medium_membership, exam_low_membership), \"grade_medium\"),\n",
    "    (min(homework_high_membership, exam_low_membership), \"grade_medium\"),\n",
    "    (min(homework_low_membership, exam_medium_membership), \"grade_medium\"),\n",
    "    (min(homework_medium_membership, exam_medium_membership), \"grade_medium\"),\n",
    "    (min(homework_high_membership, exam_medium_membership), \"grade_high\"),\n",
    "    (min(homework_low_membership, exam_high_membership), \"grade_high\"),\n",
    "    (min(homework_medium_membership, exam_high_membership), \"grade_high\"),\n",
    "    (min(homework_high_membership, exam_high_membership), \"grade_high\"),\n",
    "]\n",
    "\n",
    "# Aggregate the rule outputs\n",
    "grades = {\n",
    "    \"grade_low\": 0,\n",
    "    \"grade_medium\": 0,\n",
    "    \"grade_high\": 0,\n",
    "}"
   ]
  },
  {
   "cell_type": "code",
   "execution_count": 3,
   "metadata": {},
   "outputs": [],
   "source": [
    "for rule in rules:\n",
    "    membership, grade = rule\n",
    "    grades[grade] = max(grades[grade], membership)\n",
    "\n",
    "# Calculate the centroid defuzzified grade\n",
    "defuzzified_grade = (grades[\"grade_low\"] * 30 + grades[\"grade_medium\"] * 70 + grades[\"grade_high\"] * 100) / (grades[\"grade_low\"] + grades[\"grade_medium\"] + grades[\"grade_high\"])\n",
    "\n",
    "if defuzzified_grade <= 40:\n",
    "    output_grade = \"Low\"\n",
    "elif defuzzified_grade <= 70:\n",
    "    output_grade = \"Medium\"\n",
    "else:\n",
    "    output_grade = \"High\""
   ]
  },
  {
   "cell_type": "code",
   "execution_count": 4,
   "metadata": {},
   "outputs": [
    {
     "name": "stdout",
     "output_type": "stream",
     "text": [
      "Recommended Grade: High\n"
     ]
    }
   ],
   "source": [
    "# Output the recommended grade\n",
    "print(\"Recommended Grade:\", output_grade)"
   ]
  }
 ],
 "metadata": {
  "kernelspec": {
   "display_name": "Python 3",
   "language": "python",
   "name": "python3"
  },
  "language_info": {
   "codemirror_mode": {
    "name": "ipython",
    "version": 3
   },
   "file_extension": ".py",
   "mimetype": "text/x-python",
   "name": "python",
   "nbconvert_exporter": "python",
   "pygments_lexer": "ipython3",
   "version": "3.9.11"
  }
 },
 "nbformat": 4,
 "nbformat_minor": 2
}
