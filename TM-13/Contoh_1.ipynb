{
 "cells": [
  {
   "cell_type": "code",
   "execution_count": 1,
   "metadata": {},
   "outputs": [],
   "source": [
    "## Define Hebb Function \n",
    "def trainingNet(weight,bias,polaInput,typeOutput):\n",
    "\n",
    "    newWeight=[]\n",
    "    for i in range(0,len(weight)):\n",
    "        row=[]\n",
    "        for j in range(0,len(weight[i])):\n",
    "            a = weight[i][j] + polaInput[i][j] * typeOutput\n",
    "            row.append(a)\n",
    "\n",
    "        newWeight.append(row)\n",
    "\n",
    "    newBias = bias + typeOutput\n",
    "\n",
    "    return [\n",
    "        newWeight,\n",
    "        newBias\n",
    "    ] \n"
   ]
  },
  {
   "cell_type": "code",
   "execution_count": 2,
   "metadata": {},
   "outputs": [],
   "source": [
    "def bipolarActivation(val):\n",
    "    if(val < 0):\n",
    "        return -1\n",
    "    else:\n",
    "        return 1"
   ]
  },
  {
   "cell_type": "code",
   "execution_count": 3,
   "metadata": {},
   "outputs": [],
   "source": [
    "## Initialize \n",
    "def sumFunc(weight,bias,inputVal):\n",
    "    tambah=0\n",
    "    for i in range(0,len(weight)):\n",
    "        for j in range(0,len(weight[i])):\n",
    "            tambah += weight[i][j] * inputVal[i][j]\n",
    "\n",
    "    tambah+=bias\n",
    "    tambah=bipolarActivation(tambah)\n",
    "    return tambah"
   ]
  },
  {
   "cell_type": "code",
   "execution_count": 4,
   "metadata": {},
   "outputs": [],
   "source": [
    "pola1=[\n",
    "    [1,1,1],\n",
    "    [-1,1,-1],\n",
    "    [-1,1,-1],\n",
    "]"
   ]
  },
  {
   "cell_type": "code",
   "execution_count": 5,
   "metadata": {},
   "outputs": [],
   "source": [
    "pola2=[\n",
    "    [1,-1,1],\n",
    "    [1,-1,1],\n",
    "    [1,1,1],\n",
    "]"
   ]
  },
  {
   "cell_type": "code",
   "execution_count": 6,
   "metadata": {},
   "outputs": [],
   "source": [
    "weight=[\n",
    "    [0,0,0],\n",
    "    [0,0,0],\n",
    "    [0,0,0],\n",
    "]"
   ]
  },
  {
   "cell_type": "code",
   "execution_count": 7,
   "metadata": {},
   "outputs": [],
   "source": [
    "## Training \n",
    "bias=0\n",
    "train1= trainingNet(weight,0,pola1,1)\n",
    "train2= trainingNet(train1[0],train1[1],pola2,-1)\n",
    "aa = sumFunc(train2[0],train2[1],pola2)"
   ]
  },
  {
   "cell_type": "code",
   "execution_count": 8,
   "metadata": {},
   "outputs": [],
   "source": [
    "## Testing \n",
    "pola3=[\n",
    "    [1,1,-1],\n",
    "    [-1,1,-1],\n",
    "    [1,1,-1]\n",
    "]"
   ]
  },
  {
   "cell_type": "code",
   "execution_count": 9,
   "metadata": {},
   "outputs": [
    {
     "name": "stdout",
     "output_type": "stream",
     "text": [
      "1\n"
     ]
    }
   ],
   "source": [
    "aa = sumFunc(train2[0],train2[1],pola3)\n",
    "print(aa)"
   ]
  },
  {
   "cell_type": "code",
   "execution_count": null,
   "metadata": {},
   "outputs": [],
   "source": []
  }
 ],
 "metadata": {
  "kernelspec": {
   "display_name": "Python 3",
   "language": "python",
   "name": "python3"
  },
  "language_info": {
   "codemirror_mode": {
    "name": "ipython",
    "version": 3
   },
   "file_extension": ".py",
   "mimetype": "text/x-python",
   "name": "python",
   "nbconvert_exporter": "python",
   "pygments_lexer": "ipython3",
   "version": "3.9.11"
  }
 },
 "nbformat": 4,
 "nbformat_minor": 2
}
