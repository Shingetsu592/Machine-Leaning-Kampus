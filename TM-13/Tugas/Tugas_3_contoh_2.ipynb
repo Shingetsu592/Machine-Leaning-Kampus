{
 "cells": [
  {
   "cell_type": "code",
   "execution_count": 1,
   "metadata": {},
   "outputs": [],
   "source": [
    "import numpy as np\n",
    "import pandas as pd\n",
    "from numpy.ma.core import ceil\n",
    "from scipy.spatial import distance #distance calculation\n",
    "from sklearn.preprocessing import MinMaxScaler #normalisation\n",
    "from sklearn.model_selection import train_test_split\n",
    "from sklearn.metrics import accuracy_score #scoring\n",
    "from sklearn.metrics import confusion_matrix\n",
    "import matplotlib.pyplot as plt\n",
    "from matplotlib import animation, colors"
   ]
  },
  {
   "cell_type": "code",
   "execution_count": 2,
   "metadata": {},
   "outputs": [
    {
     "name": "stderr",
     "output_type": "stream",
     "text": [
      "C:\\Users\\M-SI\\AppData\\Local\\Temp\\ipykernel_4496\\675098868.py:2: DtypeWarning: Columns (0,27) have mixed types. Specify dtype option on import or set low_memory=False.\n",
      "  Home_data = pd.read_csv('HomeC.csv')\n"
     ]
    },
    {
     "data": {
      "text/plain": [
       "time        use [kW]  gen [kW]  House overall [kW]  Dishwasher [kW]  Furnace 1 [kW]  Furnace 2 [kW]  Home office [kW]  Fridge [kW]  Wine cellar [kW]  Garage door [kW]  Kitchen 12 [kW]  Kitchen 14 [kW]  Kitchen 38 [kW]  Barn [kW]  Well [kW]  Microwave [kW]  Living room [kW]  Solar [kW]  temperature  icon         humidity  visibility  summary     apparentTemperature  pressure  windSpeed  cloudCover  windBearing  precipIntensity  dewPoint  precipProbability\n",
       "1451624400  0.932833  0.003483  0.932833            0.000033         0.020700        0.061917        0.442633          0.124150     0.006983          0.013083          0.000417         0.000150         0.000000         0.031350   0.001017   0.004067        0.001517          0.003483    36.14        clear-night  0.62      10.00       Clear       29.26                1016.91   9.18       cloudCover  282.0        0.0000           24.40     0.00                 1\n",
       "1451960350  0.498450  0.054750  0.498450            0.000000         0.020100        0.068050        0.040433          0.129350     0.027033          0.012850          0.000533         0.000050         0.000000         0.029233   0.000933   0.003800        0.001383          0.054750    53.92        clear-night  0.91      9.69        Clear       53.92                1021.99   2.55       0.13        43.0         0.0000           51.33     0.00                 1\n",
       "1451960348  0.512833  0.047100  0.512833            0.000017         0.020117        0.066633        0.040467          0.135333     0.024833          0.012867          0.000533         0.000017         0.000017         0.029500   0.000983   0.003833        0.001467          0.047100    53.92        clear-night  0.91      9.69        Clear       53.92                1021.99   2.55       0.13        43.0         0.0000           51.33     0.00                 1\n",
       "1451960347  0.520083  0.042150  0.520083            0.000000         0.020050        0.065367        0.040467          0.136200     0.025067          0.012817          0.000517         0.000050         0.000000         0.029333   0.001000   0.003833        0.001533          0.042150    53.92        clear-night  0.91      9.69        Clear       53.92                1021.99   2.55       0.13        43.0         0.0000           51.33     0.00                 1\n",
       "1451960346  0.510017  0.058000  0.510017            0.000017         0.020100        0.067217        0.040467          0.136367     0.024433          0.012867          0.000500         0.000033         0.000000         0.029083   0.000933   0.003733        0.001567          0.058000    53.92        clear-night  0.91      9.69        Clear       53.92                1021.99   2.55       0.13        43.0         0.0000           51.33     0.00                 1\n",
       "                                                                                                                                                                                                                                                                                                                                                                                                                                                                             ..\n",
       "1451792365  0.752633  0.022267  0.752633            0.000050         0.021150        0.421950        0.113983          0.005233     0.007133          0.013283          0.000667         0.000100         0.000000         0.031300   0.001000   0.004083        0.001583          0.022267    62.87        clear-day    0.37      10.00       Clear       62.87                1021.19   6.16       0.0         220.0        0.0000           36.42     0.00                 1\n",
       "1451792364  0.463150  0.027950  0.463150            0.000017         0.020667        0.178383        0.119667          0.005433     0.006983          0.013083          0.000683         0.000000         0.000017         0.031117   0.001000   0.004117        0.001517          0.027950    62.87        clear-day    0.37      10.00       Clear       62.87                1021.19   6.16       0.0         220.0        0.0000           36.42     0.00                 1\n",
       "1451792363  0.338450  0.029983  0.338450            0.000000         0.020433        0.079450        0.116450          0.005133     0.006917          0.013033          0.000717         0.000050         0.000000         0.031167   0.000983   0.004067        0.001633          0.029983    62.87        clear-day    0.37      10.00       Clear       62.87                1021.19   6.16       0.0         220.0        0.0000           36.42     0.00                 1\n",
       "1451792362  0.347783  0.030450  0.347783            0.000000         0.020450        0.079017        0.126983          0.005050     0.006883          0.013017          0.000717         0.000050         0.000017         0.031067   0.001000   0.004050        0.001483          0.030450    62.87        clear-day    0.37      10.00       Clear       62.87                1021.19   6.16       0.0         220.0        0.0000           36.42     0.00                 1\n",
       "1452128309  1.990950  0.003233  1.990950            0.000050         0.494700        0.634133        0.042100          0.004917     0.008133          0.012833          0.000517         0.000117         0.000017         0.032167   0.000950   0.003767        0.000950          0.003233    35.12        rain         0.86      8.74        Light Rain  29.45                1011.49   6.72       0.31        186.0        0.0101           31.27     0.51                 1\n",
       "Name: count, Length: 503910, dtype: int64"
      ]
     },
     "execution_count": 2,
     "metadata": {},
     "output_type": "execute_result"
    }
   ],
   "source": [
    "#Load Dataset\n",
    "Home_data = pd.read_csv('HomeC.csv')\n",
    "nan_removed = pd.DataFrame.dropna(pd.DataFrame(Home_data))\n",
    "nan_removed.value_counts()"
   ]
  },
  {
   "cell_type": "code",
   "execution_count": 4,
   "metadata": {},
   "outputs": [
    {
     "data": {
      "text/plain": [
       "summary\n",
       "Clear                       6549\n",
       "Partly Cloudy               1083\n",
       "Light Rain                   476\n",
       "Drizzle                      180\n",
       "Overcast                     105\n",
       "Rain                          90\n",
       "Mostly Cloudy                 79\n",
       "Light Snow                    76\n",
       "Flurries                      31\n",
       "Breezy                        27\n",
       "Snow                          20\n",
       "Breezy and Partly Cloudy      18\n",
       "Foggy                         17\n",
       "Rain and Breezy                3\n",
       "Heavy Snow                     3\n",
       "Flurries and Breezy            2\n",
       "Breezy and Mostly Cloudy       1\n",
       "Dry                            1\n",
       "Name: count, dtype: int64"
      ]
     },
     "execution_count": 4,
     "metadata": {},
     "output_type": "execute_result"
    }
   ],
   "source": [
    "# remove duplicates values for temperature, icon, humidity, visibility, summary, apparentTemperature, pressure, windSpeed, cloudCover, windBearing, precipIntensity, dewPoint, and precipProbability\n",
    "duplicate_removed = nan_removed.drop_duplicates(subset=['temperature', 'icon', 'humidity', 'visibility', 'summary', 'apparentTemperature', 'pressure', 'windSpeed', 'cloudCover', 'windBearing', 'precipIntensity', 'dewPoint', 'precipProbability'], keep='first')\n",
    "duplicate_removed['summary'].value_counts()"
   ]
  },
  {
   "cell_type": "code",
   "execution_count": 5,
   "metadata": {},
   "outputs": [
    {
     "name": "stderr",
     "output_type": "stream",
     "text": [
      "C:\\Users\\M-SI\\AppData\\Local\\Temp\\ipykernel_4496\\1364489543.py:5: SettingWithCopyWarning: \n",
      "A value is trying to be set on a copy of a slice from a DataFrame.\n",
      "Try using .loc[row_indexer,col_indexer] = value instead\n",
      "\n",
      "See the caveats in the documentation: https://pandas.pydata.org/pandas-docs/stable/user_guide/indexing.html#returning-a-view-versus-a-copy\n",
      "  other['summary'] = 'Other'\n"
     ]
    }
   ],
   "source": [
    "# split the dataframe into 3 type of summary Clear, Cloudy, and other\n",
    "clear = duplicate_removed[duplicate_removed['summary'] == 'Clear']\n",
    "cloudy = duplicate_removed[duplicate_removed['summary'] == 'Overcast']\n",
    "other = duplicate_removed[(duplicate_removed['summary'] != 'Clear') & (duplicate_removed['summary'] != 'Overcast')]\n",
    "other['summary'] = 'Other'"
   ]
  },
  {
   "cell_type": "code",
   "execution_count": 6,
   "metadata": {},
   "outputs": [],
   "source": [
    "# combine the 3 dataframe into 1\n",
    "frames = [clear, cloudy, other]\n",
    "result = pd.concat(frames)\n",
    "\n",
    "# change the summary into numerical value\n",
    "result['summary'] = result['summary'].map({'Clear': 0, 'Overcast': -1, 'Other': 1})\n",
    "result = result.reset_index(drop=True)"
   ]
  },
  {
   "cell_type": "code",
   "execution_count": 9,
   "metadata": {},
   "outputs": [],
   "source": [
    "# select the best x values from result with y values is result['summary'] for SOM algorithm\n",
    "X = result.iloc[:,[0,1,2,3,4,5,6,7,8,9,10,11,12,13]]\n",
    "y = result['summary']"
   ]
  },
  {
   "cell_type": "code",
   "execution_count": 10,
   "metadata": {},
   "outputs": [],
   "source": [
    "data_x = X\n",
    "data_y = y"
   ]
  },
  {
   "cell_type": "code",
   "execution_count": 11,
   "metadata": {},
   "outputs": [
    {
     "name": "stdout",
     "output_type": "stream",
     "text": [
      "(7008, 14) (7008,) (1753, 14) (1753,)\n"
     ]
    }
   ],
   "source": [
    "train_x, test_x, train_y, test_y = train_test_split(data_x, data_y, test_size=0.2, random_state=42)\n",
    "print(train_x.shape, train_y.shape, test_x.shape, test_y.shape) # check the shapes"
   ]
  },
  {
   "cell_type": "code",
   "execution_count": 12,
   "metadata": {},
   "outputs": [],
   "source": [
    "# Helper functions\n",
    "# Data Normalisation\n",
    "def minmax_scaler(data):\n",
    "  scaler = MinMaxScaler()\n",
    "  scaled = scaler.fit_transform(data)\n",
    "  return scaled"
   ]
  },
  {
   "cell_type": "code",
   "execution_count": 13,
   "metadata": {},
   "outputs": [],
   "source": [
    "# Euclidean distance\n",
    "def e_distance(x,y):\n",
    "  return distance.euclidean(x,y)\n",
    "\n",
    "# Manhattan distance\n",
    "def m_distance(x,y):\n",
    "  return distance.cityblock(x,y)"
   ]
  },
  {
   "cell_type": "code",
   "execution_count": 14,
   "metadata": {},
   "outputs": [],
   "source": [
    "# Best Matching Unit search\n",
    "def winning_neuron(data, t, som, num_rows, num_cols):\n",
    "  winner = [0,0]\n",
    "  shortest_distance = np.sqrt(data.shape[1]) # initialise with max distance\n",
    "  input_data = data[t]\n",
    "  for row in range(num_rows):\n",
    "    for col in range(num_cols):\n",
    "      distance = e_distance(som[row][col], data[t])\n",
    "      if distance < shortest_distance: \n",
    "        shortest_distance = distance\n",
    "        winner = [row,col]\n",
    "  return winner"
   ]
  },
  {
   "cell_type": "code",
   "execution_count": 15,
   "metadata": {},
   "outputs": [],
   "source": [
    "# Learning rate and neighbourhood range calculation\n",
    "def decay(step, max_steps,max_learning_rate,max_m_dsitance):\n",
    "  coefficient = 1.0 - (np.float64(step)/max_steps)\n",
    "  learning_rate = coefficient*max_learning_rate\n",
    "  neighbourhood_range = ceil(coefficient * max_m_dsitance)\n",
    "  return learning_rate, neighbourhood_range"
   ]
  },
  {
   "cell_type": "code",
   "execution_count": 16,
   "metadata": {},
   "outputs": [],
   "source": [
    "# hyperparameters\n",
    "num_rows = 10\n",
    "num_cols = 10\n",
    "max_m_dsitance = 4\n",
    "max_learning_rate = 0.5\n",
    "max_steps = int(7.5*10e3)"
   ]
  },
  {
   "cell_type": "code",
   "execution_count": 17,
   "metadata": {},
   "outputs": [],
   "source": [
    "#main function\n",
    "train_x_norm = minmax_scaler(train_x) # normalisation\n",
    "\n",
    "# initialising self-organising map\n",
    "num_dims = train_x_norm.shape[1] # numnber of dimensions in the input data\n",
    "np.random.seed(40)\n",
    "som = np.random.random_sample(size=(num_rows, num_cols, num_dims)) # map construction"
   ]
  },
  {
   "cell_type": "code",
   "execution_count": 18,
   "metadata": {},
   "outputs": [
    {
     "name": "stdout",
     "output_type": "stream",
     "text": [
      "Iteration:  1000\n",
      "Iteration:  2000\n",
      "Iteration:  3000\n",
      "Iteration:  4000\n",
      "Iteration:  5000\n",
      "Iteration:  6000\n",
      "Iteration:  7000\n",
      "Iteration:  8000\n",
      "Iteration:  9000\n",
      "Iteration:  10000\n",
      "Iteration:  11000\n",
      "Iteration:  12000\n",
      "Iteration:  13000\n",
      "Iteration:  14000\n",
      "Iteration:  15000\n",
      "Iteration:  16000\n",
      "Iteration:  17000\n",
      "Iteration:  18000\n",
      "Iteration:  19000\n",
      "Iteration:  20000\n",
      "Iteration:  21000\n",
      "Iteration:  22000\n",
      "Iteration:  23000\n",
      "Iteration:  24000\n",
      "Iteration:  25000\n",
      "Iteration:  26000\n",
      "Iteration:  27000\n",
      "Iteration:  28000\n",
      "Iteration:  29000\n",
      "Iteration:  30000\n",
      "Iteration:  31000\n",
      "Iteration:  32000\n",
      "Iteration:  33000\n",
      "Iteration:  34000\n",
      "Iteration:  35000\n",
      "Iteration:  36000\n",
      "Iteration:  37000\n",
      "Iteration:  38000\n",
      "Iteration:  39000\n",
      "Iteration:  40000\n",
      "Iteration:  41000\n",
      "Iteration:  42000\n",
      "Iteration:  43000\n",
      "Iteration:  44000\n",
      "Iteration:  45000\n",
      "Iteration:  46000\n",
      "Iteration:  47000\n",
      "Iteration:  48000\n",
      "Iteration:  49000\n",
      "Iteration:  50000\n",
      "Iteration:  51000\n",
      "Iteration:  52000\n",
      "Iteration:  53000\n",
      "Iteration:  54000\n",
      "Iteration:  55000\n",
      "Iteration:  56000\n",
      "Iteration:  57000\n",
      "Iteration:  58000\n",
      "Iteration:  59000\n",
      "Iteration:  60000\n",
      "Iteration:  61000\n",
      "Iteration:  62000\n",
      "Iteration:  63000\n",
      "Iteration:  64000\n",
      "Iteration:  65000\n",
      "Iteration:  66000\n",
      "Iteration:  67000\n",
      "Iteration:  68000\n",
      "Iteration:  69000\n",
      "Iteration:  70000\n",
      "Iteration:  71000\n",
      "Iteration:  72000\n",
      "Iteration:  73000\n",
      "Iteration:  74000\n",
      "Iteration:  75000\n",
      "SOM training completed\n"
     ]
    }
   ],
   "source": [
    "# start training iterations\n",
    "for step in range(max_steps):\n",
    "  if (step+1) % 1000 == 0:\n",
    "    print(\"Iteration: \", step+1) # print out the current iteration for every 1k\n",
    "  learning_rate, neighbourhood_range = decay(step, max_steps,max_learning_rate,max_m_dsitance)\n",
    "\n",
    "  t = np.random.randint(0,high=train_x_norm.shape[0]) # random index of traing data\n",
    "  winner = winning_neuron(train_x_norm, t, som, num_rows, num_cols)\n",
    "  for row in range(num_rows):\n",
    "    for col in range(num_cols):\n",
    "      if m_distance([row,col],winner) <= neighbourhood_range:\n",
    "        som[row][col] += learning_rate*(train_x_norm[t]-som[row][col]) #update neighbour's weight\n",
    "\n",
    "print(\"SOM training completed\")"
   ]
  },
  {
   "cell_type": "code",
   "execution_count": 19,
   "metadata": {},
   "outputs": [
    {
     "data": {
      "image/png": "[encoded data removed]",
      "text/plain": [
       "<Figure size 1000x1000 with 2 Axes>"
      ]
     },
     "metadata": {},
     "output_type": "display_data"
    }
   ],
   "source": [
    "# plot the SOM in confusion matrix\n",
    "# initialise the confusion matrix\n",
    "confusion_matrix = np.zeros(shape=(num_rows, num_cols), dtype=np.int32)\n",
    "\n",
    "# calculate the confusion matrix\n",
    "for i in range(train_x_norm.shape[0]):\n",
    "  winner = winning_neuron(train_x_norm, i, som, num_rows, num_cols)\n",
    "  confusion_matrix[winner[0]][winner[1]] += 1\n",
    "\n",
    "# plot the confusion matrix\n",
    "plt.figure(figsize=(10,10))\n",
    "plt.title(\"Confusion Matrix\")\n",
    "plt.imshow(confusion_matrix, cmap='Blues')\n",
    "plt.colorbar()\n",
    "plt.xlabel(\"Predicted\")\n",
    "plt.ylabel(\"Actual\")\n",
    "plt.show()\n"
   ]
  },
  {
   "cell_type": "code",
   "execution_count": null,
   "metadata": {},
   "outputs": [],
   "source": []
  }
 ],
 "metadata": {
  "kernelspec": {
   "display_name": "Python 3",
   "language": "python",
   "name": "python3"
  },
  "language_info": {
   "codemirror_mode": {
    "name": "ipython",
    "version": 3
   },
   "file_extension": ".py",
   "mimetype": "text/x-python",
   "name": "python",
   "nbconvert_exporter": "python",
   "pygments_lexer": "ipython3",
   "version": "3.10.11"
  }
 },
 "nbformat": 4,
 "nbformat_minor": 2
}
