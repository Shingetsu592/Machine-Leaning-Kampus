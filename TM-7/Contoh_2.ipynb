{
 "cells": [
  {
   "cell_type": "code",
   "execution_count": 27,
   "metadata": {},
   "outputs": [],
   "source": [
    "import pandas as pd\n",
    "import numpy as np\n",
    "from sklearn.naive_bayes import GaussianNB"
   ]
  },
  {
   "cell_type": "code",
   "execution_count": 28,
   "metadata": {},
   "outputs": [
    {
     "name": "stdout",
     "output_type": "stream",
     "text": [
      "     sepal_length  sepal_width  petal_length  petal_width    species\n",
      "0             5.1          3.5           1.4          0.2     setosa\n",
      "1             4.9          3.0           1.4          0.2     setosa\n",
      "2             4.7          3.2           1.3          0.2     setosa\n",
      "3             4.6          3.1           1.5          0.2     setosa\n",
      "4             5.0          3.6           1.4          0.2     setosa\n",
      "..            ...          ...           ...          ...        ...\n",
      "145           6.7          3.0           5.2          2.3  virginica\n",
      "146           6.3          2.5           5.0          1.9  virginica\n",
      "147           6.5          3.0           5.2          2.0  virginica\n",
      "148           6.2          3.4           5.4          2.3  virginica\n",
      "149           5.9          3.0           5.1          1.8  virginica\n",
      "\n",
      "[150 rows x 5 columns]\n"
     ]
    }
   ],
   "source": [
    "#Load Data\n",
    "df = pd.read_csv(\"iris.csv\")\n",
    "# df = df.drop(axis = 1)\n",
    "print(df)\n",
    "\n",
    "#Train Test Split\n",
    "train = df.sample(frac = 0.7, random_state = 1)\n",
    "test = df.drop(train.index)\n",
    "\n",
    "y_train = train[\"species\"]\n",
    "x_train = train.drop(\"species\", axis = 1)\n",
    "\n",
    "y_test = test[\"species\"]\n",
    "x_test = test.drop(\"species\", axis = 1)\n",
    "\n",
    "#Training – Count Posterior\n",
    "means = train.groupby([\"species\"]).mean() # Find mean of each class\n",
    "var = train.groupby([\"species\"]).var() # Find variance of each class\n",
    "prior = (train.groupby(\"species\").count() / len(train)).iloc[:,1] # Find prior probability of each class\n",
    "classes = np.unique(train[\"species\"].tolist()) # Storing all possible classes\n"
   ]
  },
  {
   "cell_type": "code",
   "execution_count": 29,
   "metadata": {},
   "outputs": [],
   "source": [
    "#Classification\n",
    "def Normal(n, mu, var):\n",
    "    # Function to return pdf of Normal(mu, var) evaluated at x\n",
    "    sd = np.sqrt(var)\n",
    "    pdf = (np.e ** (-0.5 * ((n - mu)/sd) ** 2)) / (sd * np.sqrt(2 * np.pi))\n",
    "    return pdf\n"
   ]
  },
  {
   "cell_type": "code",
   "execution_count": 30,
   "metadata": {},
   "outputs": [],
   "source": [
    "def Predict(X):\n",
    "    Predictions = []\n",
    "    \n",
    "    for i in X.index: # Loop through each instances\n",
    "        ClassLikelihood = []\n",
    "        instance = X.loc[i]\n",
    "        for cls in classes: # Loop through each class\n",
    "            FeatureLikelihoods = []\n",
    "            FeatureLikelihoods.append(np.log(prior[cls])) # Append log prior of class 'cls'\n",
    "            for col in x_train.columns: # Loop through each feature\n",
    "                data = instance[col]\n",
    "                mean = means[col].loc[cls] # Find the mean of column 'col' that are in class 'cls'\n",
    "                variance = var[col].loc[cls] # Find the variance of column 'col' that are in class 'cls'\n",
    "                Likelihood = Normal(data, mean, variance)\n",
    "                if Likelihood != 0:\n",
    "                    Likelihood = np.log(Likelihood) # Find the log-likelihood evaluated at x\n",
    "                else:\n",
    "                    Likelihood = 1/len(train) \n",
    "                \n",
    "                FeatureLikelihoods.append(Likelihood)\n",
    "                \n",
    "            TotalLikelihood = sum(FeatureLikelihoods) # Calculate posterior\n",
    "            ClassLikelihood.append(TotalLikelihood)\n",
    "            \n",
    "        MaxIndex = ClassLikelihood.index(max(ClassLikelihood)) # Find largest posterior position\n",
    "        Prediction = classes[MaxIndex]\n",
    "        Predictions.append(Prediction)     \n",
    "    return Predictions\n"
   ]
  },
  {
   "cell_type": "code",
   "execution_count": 31,
   "metadata": {},
   "outputs": [],
   "source": [
    "def Accuracy(y, prediction):\n",
    "    # Function to calculate accuracy\n",
    "    y = list(y)\n",
    "    prediction = list(prediction)\n",
    "    score = 0\n",
    "    for i, j in zip(y, prediction):\n",
    "        if i == j:\n",
    "            score += 1   \n",
    "    return score / len(y)\n"
   ]
  },
  {
   "cell_type": "code",
   "execution_count": 32,
   "metadata": {},
   "outputs": [
    {
     "name": "stdout",
     "output_type": "stream",
     "text": [
      "Training Accuracy: 0.9809\n",
      "Testing Accuracy: 0.9111\n"
     ]
    }
   ],
   "source": [
    "PredictTrain = Predict(x_train)\n",
    "PredictTest = Predict(x_test)\n",
    "\n",
    "print('Training Accuracy: %.4f' % round(Accuracy(y_train, PredictTrain), 5))\n",
    "print('Testing Accuracy: %.4f' % round(Accuracy(y_test, PredictTest), 5))\n"
   ]
  },
  {
   "cell_type": "code",
   "execution_count": 33,
   "metadata": {},
   "outputs": [
    {
     "name": "stdout",
     "output_type": "stream",
     "text": [
      "Training Accuracy: 0.9809\n",
      "Testing Accuracy: 0.9111\n"
     ]
    }
   ],
   "source": [
    "clf = GaussianNB()\n",
    "clf.fit(x_train, y_train)\n",
    "SkTrain = clf.predict(x_train) # Predicting on the train set\n",
    "SkTest = clf.predict(x_test) # Predicting on the test set\n",
    "\n",
    "print('Training Accuracy: %.4f' % round(Accuracy(y_train, SkTrain), 5))\n",
    "print('Testing Accuracy: %.4f' % round(Accuracy(y_test, SkTest), 5))\n"
   ]
  }
 ],
 "metadata": {
  "kernelspec": {
   "display_name": "Python 3",
   "language": "python",
   "name": "python3"
  },
  "language_info": {
   "codemirror_mode": {
    "name": "ipython",
    "version": 3
   },
   "file_extension": ".py",
   "mimetype": "text/x-python",
   "name": "python",
   "nbconvert_exporter": "python",
   "pygments_lexer": "ipython3",
   "version": "3.9.11"
  }
 },
 "nbformat": 4,
 "nbformat_minor": 2
}
