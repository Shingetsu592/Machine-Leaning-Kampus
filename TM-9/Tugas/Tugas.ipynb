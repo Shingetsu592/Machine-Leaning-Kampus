{
 "cells": [
  {
   "cell_type": "code",
   "execution_count": 1,
   "metadata": {},
   "outputs": [],
   "source": [
    "import numpy as np"
   ]
  },
  {
   "cell_type": "code",
   "execution_count": 2,
   "metadata": {},
   "outputs": [],
   "source": [
    "# Define the input membership function\n",
    "def fuzzy_membership(value, low, medium, high):\n",
    "    return [\n",
    "        max(0, min((value - low) / (medium - low), (high - value) / (high - medium))),\n",
    "        max(0, min((value - low) / ((high - low) / 2), 2 - (value - low) / ((high - low) / 2))),\n",
    "        max(0, min(1, (value - medium) / (high - medium)))\n",
    "    ]"
   ]
  },
  {
   "cell_type": "code",
   "execution_count": 3,
   "metadata": {},
   "outputs": [],
   "source": [
    "production_cost = 6000000\n",
    "request_value = 320\n",
    "available_stock = 60"
   ]
  },
  {
   "cell_type": "code",
   "execution_count": 4,
   "metadata": {},
   "outputs": [],
   "source": [
    "# production_cost_min = 900000\n",
    "# production_cost_max = 16600000\n",
    "production_cost_low = [0, 900000, 16600000]\n",
    "production_cost_high = [900000, 16600000, 16600000]\n",
    "\n",
    "# request_value_min = 50\n",
    "# request_value_max = 485\n",
    "request_value_low = [0, 50, 485]\n",
    "request_value_high = [50, 485, 485]\n",
    "\n",
    "# available_stock_min = 5\n",
    "# available_stock_max = 230\n",
    "available_stock_low = [0, 5, 230]\n",
    "available_stock_high = [5, 230, 230]\n",
    "\n",
    "# production_min = 80\n",
    "# production_max = 472\n",
    "production_low = [0, 80, 472]\n",
    "production_high = [80, 472, 472]"
   ]
  },
  {
   "cell_type": "code",
   "execution_count": 5,
   "metadata": {},
   "outputs": [],
   "source": [
    "production_cost_membership = fuzzy_membership(production_cost, *production_cost_low)\n",
    "request_value_membership = fuzzy_membership(request_value, *request_value_low)\n",
    "available_stock_membership = fuzzy_membership(available_stock, *available_stock_low)"
   ]
  },
  {
   "cell_type": "code",
   "execution_count": 12,
   "metadata": {},
   "outputs": [],
   "source": [
    "# Define the fuzzy rules and their corresponding linear functions\n",
    "rules = [\n",
    "    # available stock low\n",
    "    (production_cost_membership[0], request_value_membership[0], available_stock_membership[0], lambda x, y, z: (0.75 * x + 0.125 * y + 0.125 * z)/14394),\n",
    "    (production_cost_membership[0], request_value_membership[1], available_stock_membership[0], lambda x, y, z: (0.75 * x + 0.125 * y + 0.125 * z)/14394),\n",
    "    (production_cost_membership[0], request_value_membership[2], available_stock_membership[0], lambda x, y, z: (0.75 * x + 0.125 * y + 0.125 * z)/14394),\n",
    "    (production_cost_membership[1], request_value_membership[0], available_stock_membership[0], lambda x, y, z: (0.75 * x + 0.125 * y + 0.125 * z)/14394),\n",
    "    (production_cost_membership[1], request_value_membership[1], available_stock_membership[0], lambda x, y, z: (0.75 * x + 0.125 * y + 0.125 * z)/14394),\n",
    "    (production_cost_membership[1], request_value_membership[2], available_stock_membership[0], lambda x, y, z: (0.75 * x + 0.125 * y + 0.125 * z)/14394),\n",
    "    (production_cost_membership[2], request_value_membership[0], available_stock_membership[0], lambda x, y, z: (0.75 * x + 0.125 * y + 0.125 * z)/14394),\n",
    "    (production_cost_membership[2], request_value_membership[1], available_stock_membership[0], lambda x, y, z: (0.75 * x + 0.125 * y + 0.125 * z)/14394),\n",
    "    (production_cost_membership[2], request_value_membership[2], available_stock_membership[0], lambda x, y, z: (0.75 * x + 0.125 * y + 0.125 * z)/14394),\n",
    "    # available stock medium\n",
    "    (production_cost_membership[0], request_value_membership[0], available_stock_membership[1], lambda x, y, z: (0.75 * x + 0.125 * y + 0.125 * z)/14394),\n",
    "    (production_cost_membership[0], request_value_membership[1], available_stock_membership[1], lambda x, y, z: (0.75 * x + 0.125 * y + 0.125 * z)/14394),\n",
    "    (production_cost_membership[0], request_value_membership[2], available_stock_membership[1], lambda x, y, z: (0.75 * x + 0.125 * y + 0.125 * z)/14394),\n",
    "    (production_cost_membership[1], request_value_membership[0], available_stock_membership[1], lambda x, y, z: (0.75 * x + 0.125 * y + 0.125 * z)/14394),\n",
    "    (production_cost_membership[1], request_value_membership[1], available_stock_membership[1], lambda x, y, z: (0.75 * x + 0.125 * y + 0.125 * z)/14394),\n",
    "    (production_cost_membership[1], request_value_membership[2], available_stock_membership[1], lambda x, y, z: (0.75 * x + 0.125 * y + 0.125 * z)/14394),\n",
    "    (production_cost_membership[2], request_value_membership[0], available_stock_membership[1], lambda x, y, z: (0.75 * x + 0.125 * y + 0.125 * z)/14394),\n",
    "    (production_cost_membership[2], request_value_membership[1], available_stock_membership[1], lambda x, y, z: (0.75 * x + 0.125 * y + 0.125 * z)/14394),\n",
    "    (production_cost_membership[2], request_value_membership[2], available_stock_membership[1], lambda x, y, z: (0.75 * x + 0.125 * y + 0.125 * z)/14394),\n",
    "    # available stock high\n",
    "    (production_cost_membership[0], request_value_membership[0], available_stock_membership[2], lambda x, y, z: (0.75 * x + 0.125 * y + 0.125 * z)/14394),\n",
    "    (production_cost_membership[0], request_value_membership[1], available_stock_membership[2], lambda x, y, z: (0.75 * x + 0.125 * y + 0.125 * z)/14394),\n",
    "    (production_cost_membership[0], request_value_membership[2], available_stock_membership[2], lambda x, y, z: (0.75 * x + 0.125 * y + 0.125 * z)/14394),\n",
    "    (production_cost_membership[1], request_value_membership[0], available_stock_membership[2], lambda x, y, z: (0.75 * x + 0.125 * y + 0.125 * z)/14394),\n",
    "    (production_cost_membership[1], request_value_membership[1], available_stock_membership[2], lambda x, y, z: (0.75 * x + 0.125 * y + 0.125 * z)/14394),\n",
    "    (production_cost_membership[1], request_value_membership[2], available_stock_membership[2], lambda x, y, z: (0.75 * x + 0.125 * y + 0.125 * z)/14394),\n",
    "    (production_cost_membership[2], request_value_membership[0], available_stock_membership[2], lambda x, y, z: (0.75 * x + 0.125 * y + 0.125 * z)/14394),\n",
    "    (production_cost_membership[2], request_value_membership[1], available_stock_membership[2], lambda x, y, z: (0.75 * x + 0.125 * y + 0.125 * z)/14394),\n",
    "    (production_cost_membership[2], request_value_membership[2], available_stock_membership[2], lambda x, y, z: (0.75 * x + 0.125 * y + 0.125 * z)/14394),\n",
    "]"
   ]
  },
  {
   "cell_type": "code",
   "execution_count": 13,
   "metadata": {},
   "outputs": [
    {
     "name": "stdout",
     "output_type": "stream",
     "text": [
      "Hasil Akhir:  312.6335625955259\n"
     ]
    }
   ],
   "source": [
    "# Calculate the weighted average of the linear functions\n",
    "numerator = sum(weight * rule(production_cost, request_value, available_stock) for weight, _, _, rule in rules)\n",
    "denominator = sum(weight for weight, _, _, _ in rules)\n",
    "\n",
    "# Calculate the final result (Sugeno model)\n",
    "if denominator != 0:\n",
    "    result = numerator / denominator\n",
    "else:\n",
    "    result = 0  # Handle the case where the denominator is 0\n",
    "print(\"Hasil Akhir: \", result)"
   ]
  },
  {
   "cell_type": "code",
   "execution_count": null,
   "metadata": {},
   "outputs": [],
   "source": []
  }
 ],
 "metadata": {
  "kernelspec": {
   "display_name": "Python 3",
   "language": "python",
   "name": "python3"
  },
  "language_info": {
   "codemirror_mode": {
    "name": "ipython",
    "version": 3
   },
   "file_extension": ".py",
   "mimetype": "text/x-python",
   "name": "python",
   "nbconvert_exporter": "python",
   "pygments_lexer": "ipython3",
   "version": "3.9.11"
  }
 },
 "nbformat": 4,
 "nbformat_minor": 2
}
