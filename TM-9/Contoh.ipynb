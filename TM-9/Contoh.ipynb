{
 "cells": [
  {
   "cell_type": "code",
   "execution_count": 1,
   "metadata": {},
   "outputs": [],
   "source": [
    "import numpy as np"
   ]
  },
  {
   "cell_type": "code",
   "execution_count": 2,
   "metadata": {},
   "outputs": [],
   "source": [
    "# Define the input values (homework and exam scores)\n",
    "homework_score = 50\n",
    "exam_score = 50\n",
    "\n",
    "# Define the fuzzy sets for homework and exam scores\n",
    "homework_low = [0, 30, 60]\n",
    "homework_medium = [30, 70, 100]\n",
    "homework_high = [70, 100, 100]\n",
    "\n",
    "exam_low = [0, 30, 60]\n",
    "exam_medium = [30, 70, 100]\n",
    "exam_high = [70, 100, 100]\n",
    "\n",
    "# Define the input membership function\n",
    "def fuzzy_membership(value, low, medium, high):\n",
    "    return [\n",
    "        max(0, min((value - low) / (medium - low), (high - value) / (high - medium))),\n",
    "        max(0, min((value - low) / ((high - low) / 2), 2 - (value - low) / ((high - low) / 2))),\n",
    "        max(0, min(1, (value - medium) / (high - medium)))\n",
    "    ]\n",
    "\n",
    "# Calculate the membership values for the input values\n",
    "homework_membership = fuzzy_membership(homework_score, *homework_low)\n",
    "exam_membership = fuzzy_membership(exam_score, *exam_low)\n",
    "\n",
    "# Define the fuzzy rules and their corresponding linear functions\n",
    "rules = [\n",
    "    (homework_membership[0], exam_membership[0], lambda x, y: 0.5 * x + 0.5 * y),\n",
    "    (homework_membership[0], exam_membership[1], lambda x, y: 0.5 * x + 0.5 * y),\n",
    "    (homework_membership[0], exam_membership[2], lambda x, y: 0.5 * x + 0.5 * y),\n",
    "    (homework_membership[1], exam_membership[0], lambda x, y: 0.5 * x + 0.5 * y),\n",
    "    (homework_membership[1], exam_membership[1], lambda x, y: 0.5 * x + 0.5 * y),\n",
    "    (homework_membership[1], exam_membership[2], lambda x, y: 0.5 * x + 0.5 * y),\n",
    "    (homework_membership[2], exam_membership[0], lambda x, y: 0.5 * x + 0.5 * y),\n",
    "    (homework_membership[2], exam_membership[1], lambda x, y: 0.5 * x + 0.5 * y),\n",
    "    (homework_membership[2], exam_membership[2], lambda x, y: 0.5 * x + 0.5 * y),\n",
    "]\n",
    "\n",
    "# Calculate the weighted average of the linear functions\n",
    "numerator = sum(weight * rule(homework_score, exam_score) for weight, _, rule in rules)\n",
    "denominator = sum(weight for weight, _, _ in rules)\n",
    "\n",
    "# Calculate the final result (Sugeno model)\n",
    "if denominator != 0:\n",
    "    result = numerator / denominator\n",
    "else:\n",
    "    result = 0  # Handle the case where the denominator is 0\n",
    "\n",
    "if result <= 40:\n",
    "    output_grade = \"Low\"\n",
    "elif result <= 70:\n",
    "    output_grade = \"Medium\"\n",
    "else:\n",
    "    output_grade = \"High\""
   ]
  },
  {
   "cell_type": "code",
   "execution_count": 3,
   "metadata": {},
   "outputs": [
    {
     "name": "stdout",
     "output_type": "stream",
     "text": [
      "Recommended Grade: Medium\n"
     ]
    }
   ],
   "source": [
    "# Output the recommended result (in this case, a grade)\n",
    "print(\"Recommended Grade:\", output_grade)"
   ]
  }
 ],
 "metadata": {
  "kernelspec": {
   "display_name": "Python 3",
   "language": "python",
   "name": "python3"
  },
  "language_info": {
   "codemirror_mode": {
    "name": "ipython",
    "version": 3
   },
   "file_extension": ".py",
   "mimetype": "text/x-python",
   "name": "python",
   "nbconvert_exporter": "python",
   "pygments_lexer": "ipython3",
   "version": "3.9.11"
  }
 },
 "nbformat": 4,
 "nbformat_minor": 2
}
