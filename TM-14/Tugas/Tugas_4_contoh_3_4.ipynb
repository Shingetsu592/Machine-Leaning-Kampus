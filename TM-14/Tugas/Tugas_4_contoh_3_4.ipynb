{
 "cells": [
  {
   "cell_type": "code",
   "execution_count": 23,
   "metadata": {},
   "outputs": [],
   "source": [
    "import numpy as np\n",
    "import pandas as pd\n",
    "from sklearn import datasets\n",
    "from sklearn.model_selection import train_test_split\n",
    "from sklearn.metrics import accuracy_score\n",
    "from sklearn import metrics \n",
    "from sklearn.metrics import confusion_matrix \n",
    "import matplotlib.pyplot as plt\n",
    "import matplotlib.cm as cm\n",
    "import seaborn as sns"
   ]
  },
  {
   "cell_type": "code",
   "execution_count": 24,
   "metadata": {},
   "outputs": [],
   "source": [
    "import warnings\n",
    "warnings.filterwarnings(\"ignore\")"
   ]
  },
  {
   "cell_type": "code",
   "execution_count": 25,
   "metadata": {},
   "outputs": [
    {
     "data": {
      "text/plain": [
       "time        use [kW]  gen [kW]  House overall [kW]  Dishwasher [kW]  Furnace 1 [kW]  Furnace 2 [kW]  Home office [kW]  Fridge [kW]  Wine cellar [kW]  Garage door [kW]  Kitchen 12 [kW]  Kitchen 14 [kW]  Kitchen 38 [kW]  Barn [kW]  Well [kW]  Microwave [kW]  Living room [kW]  Solar [kW]  temperature  icon         humidity  visibility  summary     apparentTemperature  pressure  windSpeed  cloudCover  windBearing  precipIntensity  dewPoint  precipProbability\n",
       "1451624400  0.932833  0.003483  0.932833            0.000033         0.020700        0.061917        0.442633          0.124150     0.006983          0.013083          0.000417         0.000150         0.000000         0.031350   0.001017   0.004067        0.001517          0.003483    36.14        clear-night  0.62      10.00       Clear       29.26                1016.91   9.18       cloudCover  282.0        0.0000           24.40     0.00                 1\n",
       "1451960350  0.498450  0.054750  0.498450            0.000000         0.020100        0.068050        0.040433          0.129350     0.027033          0.012850          0.000533         0.000050         0.000000         0.029233   0.000933   0.003800        0.001383          0.054750    53.92        clear-night  0.91      9.69        Clear       53.92                1021.99   2.55       0.13        43.0         0.0000           51.33     0.00                 1\n",
       "1451960348  0.512833  0.047100  0.512833            0.000017         0.020117        0.066633        0.040467          0.135333     0.024833          0.012867          0.000533         0.000017         0.000017         0.029500   0.000983   0.003833        0.001467          0.047100    53.92        clear-night  0.91      9.69        Clear       53.92                1021.99   2.55       0.13        43.0         0.0000           51.33     0.00                 1\n",
       "1451960347  0.520083  0.042150  0.520083            0.000000         0.020050        0.065367        0.040467          0.136200     0.025067          0.012817          0.000517         0.000050         0.000000         0.029333   0.001000   0.003833        0.001533          0.042150    53.92        clear-night  0.91      9.69        Clear       53.92                1021.99   2.55       0.13        43.0         0.0000           51.33     0.00                 1\n",
       "1451960346  0.510017  0.058000  0.510017            0.000017         0.020100        0.067217        0.040467          0.136367     0.024433          0.012867          0.000500         0.000033         0.000000         0.029083   0.000933   0.003733        0.001567          0.058000    53.92        clear-night  0.91      9.69        Clear       53.92                1021.99   2.55       0.13        43.0         0.0000           51.33     0.00                 1\n",
       "                                                                                                                                                                                                                                                                                                                                                                                                                                                                             ..\n",
       "1451792365  0.752633  0.022267  0.752633            0.000050         0.021150        0.421950        0.113983          0.005233     0.007133          0.013283          0.000667         0.000100         0.000000         0.031300   0.001000   0.004083        0.001583          0.022267    62.87        clear-day    0.37      10.00       Clear       62.87                1021.19   6.16       0.0         220.0        0.0000           36.42     0.00                 1\n",
       "1451792364  0.463150  0.027950  0.463150            0.000017         0.020667        0.178383        0.119667          0.005433     0.006983          0.013083          0.000683         0.000000         0.000017         0.031117   0.001000   0.004117        0.001517          0.027950    62.87        clear-day    0.37      10.00       Clear       62.87                1021.19   6.16       0.0         220.0        0.0000           36.42     0.00                 1\n",
       "1451792363  0.338450  0.029983  0.338450            0.000000         0.020433        0.079450        0.116450          0.005133     0.006917          0.013033          0.000717         0.000050         0.000000         0.031167   0.000983   0.004067        0.001633          0.029983    62.87        clear-day    0.37      10.00       Clear       62.87                1021.19   6.16       0.0         220.0        0.0000           36.42     0.00                 1\n",
       "1451792362  0.347783  0.030450  0.347783            0.000000         0.020450        0.079017        0.126983          0.005050     0.006883          0.013017          0.000717         0.000050         0.000017         0.031067   0.001000   0.004050        0.001483          0.030450    62.87        clear-day    0.37      10.00       Clear       62.87                1021.19   6.16       0.0         220.0        0.0000           36.42     0.00                 1\n",
       "1452128309  1.990950  0.003233  1.990950            0.000050         0.494700        0.634133        0.042100          0.004917     0.008133          0.012833          0.000517         0.000117         0.000017         0.032167   0.000950   0.003767        0.000950          0.003233    35.12        rain         0.86      8.74        Light Rain  29.45                1011.49   6.72       0.31        186.0        0.0101           31.27     0.51                 1\n",
       "Name: count, Length: 503910, dtype: int64"
      ]
     },
     "execution_count": 25,
     "metadata": {},
     "output_type": "execute_result"
    }
   ],
   "source": [
    "#Load Dataset\n",
    "Home_data = pd.read_csv('HomeC.csv')\n",
    "nan_removed = pd.DataFrame.dropna(pd.DataFrame(Home_data))\n",
    "nan_removed.value_counts()"
   ]
  },
  {
   "cell_type": "code",
   "execution_count": 26,
   "metadata": {},
   "outputs": [
    {
     "data": {
      "text/plain": [
       "summary\n",
       "Clear                       6549\n",
       "Partly Cloudy               1083\n",
       "Light Rain                   476\n",
       "Drizzle                      180\n",
       "Overcast                     105\n",
       "Rain                          90\n",
       "Mostly Cloudy                 79\n",
       "Light Snow                    76\n",
       "Flurries                      31\n",
       "Breezy                        27\n",
       "Snow                          20\n",
       "Breezy and Partly Cloudy      18\n",
       "Foggy                         17\n",
       "Rain and Breezy                3\n",
       "Heavy Snow                     3\n",
       "Flurries and Breezy            2\n",
       "Breezy and Mostly Cloudy       1\n",
       "Dry                            1\n",
       "Name: count, dtype: int64"
      ]
     },
     "execution_count": 26,
     "metadata": {},
     "output_type": "execute_result"
    }
   ],
   "source": [
    "# remove duplicates values for temperature, icon, humidity, visibility, summary, apparentTemperature, pressure, windSpeed, cloudCover, windBearing, precipIntensity, dewPoint, and precipProbability\n",
    "duplicate_removed = nan_removed.drop_duplicates(subset=['temperature', 'icon', 'humidity', 'visibility', 'summary', 'apparentTemperature', 'pressure', 'windSpeed', 'cloudCover', 'windBearing', 'precipIntensity', 'dewPoint', 'precipProbability'], keep='first')\n",
    "duplicate_removed['summary'].value_counts()"
   ]
  },
  {
   "cell_type": "code",
   "execution_count": 27,
   "metadata": {},
   "outputs": [
    {
     "data": {
      "text/plain": [
       "summary\n",
       "Clear                       1888\n",
       "Partly Cloudy                309\n",
       "Light Rain                   120\n",
       "Drizzle                       45\n",
       "Overcast                      34\n",
       "Rain                          30\n",
       "Mostly Cloudy                 27\n",
       "Light Snow                    21\n",
       "Flurries                       9\n",
       "Snow                           6\n",
       "Breezy                         3\n",
       "Breezy and Partly Cloudy       3\n",
       "Foggy                          2\n",
       "Rain and Breezy                2\n",
       "Breezy and Mostly Cloudy       1\n",
       "Name: count, dtype: int64"
      ]
     },
     "execution_count": 27,
     "metadata": {},
     "output_type": "execute_result"
    }
   ],
   "source": [
    "random_selection = duplicate_removed.sample(n=2500, replace=False, random_state=42)\n",
    "random_selection['summary'].value_counts()"
   ]
  },
  {
   "cell_type": "code",
   "execution_count": 28,
   "metadata": {},
   "outputs": [],
   "source": [
    "# split the dataframe into 3 type of summary Rain, Cloudy, and Clear\n",
    "rain = duplicate_removed[duplicate_removed['summary'] == 'Rain']\n",
    "drizzle = duplicate_removed[duplicate_removed['summary'] == 'Drizzle']\n",
    "overcast = duplicate_removed[duplicate_removed['summary'] == 'Overcast']\n",
    "# other = random_selection[(random_selection['summary'] != 'Clear') & (random_selection['summary'] != 'Partly Cloudy')]\n",
    "# other['summary'] = 'Other'"
   ]
  },
  {
   "cell_type": "code",
   "execution_count": 29,
   "metadata": {},
   "outputs": [],
   "source": [
    "# combine the 3 dataframe into 1\n",
    "frames = [rain, drizzle, overcast]\n",
    "result = pd.concat(frames)\n",
    "\n",
    "# change the summary into numerical value\n",
    "result['summary'] = result['summary'].map({'Rain': 0, 'Drizzle': 1, 'Overcast': 2})\n",
    "result = result.reset_index(drop=True)"
   ]
  },
  {
   "cell_type": "code",
   "execution_count": 30,
   "metadata": {},
   "outputs": [],
   "source": [
    "X = result.iloc[:,[0,5,7,9]].values\n",
    "y = result['summary'].values\n",
    "y = y.reshape([375,1])"
   ]
  },
  {
   "cell_type": "code",
   "execution_count": 31,
   "metadata": {},
   "outputs": [],
   "source": [
    "def sigmoid(z):\n",
    "    return 1 / (1 + np.exp(-z))\n",
    "\n",
    "def sigmoid_derivative(z):\n",
    "    s = sigmoid(z)\n",
    "    return s * (1 - s)\n",
    "\n",
    "class MLP:\n",
    "    def __init__(self, input_size, hidden_size, output_size, learning_rate=0.01):\n",
    "        self.input_size = input_size\n",
    "        self.hidden_size = hidden_size\n",
    "        self.output_size = output_size\n",
    "        self.learning_rate = learning_rate\n",
    "        \n",
    "        # initialize weights randomly\n",
    "        self.weights1 = np.random.randn(self.input_size, self.hidden_size)\n",
    "        self.weights2 = np.random.randn(self.hidden_size, self.output_size)\n",
    "        \n",
    "        # initialize biases to 0\n",
    "        self.bias1 = np.zeros((1, self.hidden_size))\n",
    "        self.bias2 = np.zeros((1, self.output_size))\n",
    "    \n",
    "    def fit(self, X, y, epochs=1000):\n",
    "        for epoch in range(epochs):\n",
    "            # feedforward\n",
    "            layer1 = X.dot(self.weights1) + self.bias1\n",
    "            activation1 = sigmoid(layer1)\n",
    "            layer2 = activation1.dot(self.weights2) + self.bias2\n",
    "            activation2 = sigmoid(layer2)\n",
    "            \n",
    "            # backpropagation\n",
    "            error = activation2 - y\n",
    "            d_weights2 = activation1.T.dot(error * sigmoid_derivative(layer2))\n",
    "            d_bias2 = np.sum(error * sigmoid_derivative(layer2), axis=0, keepdims=True)\n",
    "            error_hidden = error.dot(self.weights2.T) * sigmoid_derivative(layer1)\n",
    "            d_weights1 = X.T.dot(error_hidden)\n",
    "            d_bias1 = np.sum(error_hidden, axis=0, keepdims=True)\n",
    "            \n",
    "            # update weights and biases\n",
    "            self.weights2 -= self.learning_rate * d_weights2\n",
    "            self.bias2 -= self.learning_rate * d_bias2\n",
    "            self.weights1 -= self.learning_rate * d_weights1\n",
    "            self.bias1 -= self.learning_rate * d_bias1\n",
    "#Prediction    \n",
    "    def predict(self, X):\n",
    "        layer1 = X.dot(self.weights1) + self.bias1\n",
    "        activation1 = sigmoid(layer1)\n",
    "        layer2 = activation1.dot(self.weights2) + self.bias2\n",
    "        activation2 = sigmoid(layer2)\n",
    "        return (activation2 > 0.5).astype(int)"
   ]
  },
  {
   "cell_type": "code",
   "execution_count": 36,
   "metadata": {},
   "outputs": [
    {
     "name": "stdout",
     "output_type": "stream",
     "text": [
      "Accuracy: 0.39473684210526316\n"
     ]
    }
   ],
   "source": [
    "X_train, X_test, y_train, y_test = train_test_split(X, y, test_size=0.15, random_state=42)\n",
    "X_train = X_train.astype(float)  # Convert X_train to float\n",
    "X_test = X_test.astype(float)  # Convert X_test to float\n",
    "# create an instance of the MLP class\n",
    "mlp = MLP(input_size=4, hidden_size=8, output_size=1)\n",
    "# train the MLP on the training data\n",
    "mlp.fit(X_train, y_train)\n",
    "# make predictions on the test data\n",
    "y_pred = mlp.predict(X_test)\n",
    "# evaluate the accuracy of the MLP \n",
    "accuracy = np.mean(y_pred == y_test)\n",
    "print(f\"Accuracy: {accuracy}\")"
   ]
  },
  {
   "cell_type": "code",
   "execution_count": null,
   "metadata": {},
   "outputs": [],
   "source": []
  }
 ],
 "metadata": {
  "kernelspec": {
   "display_name": "Python 3",
   "language": "python",
   "name": "python3"
  },
  "language_info": {
   "codemirror_mode": {
    "name": "ipython",
    "version": 3
   },
   "file_extension": ".py",
   "mimetype": "text/x-python",
   "name": "python",
   "nbconvert_exporter": "python",
   "pygments_lexer": "ipython3",
   "version": "3.10.11"
  }
 },
 "nbformat": 4,
 "nbformat_minor": 2
}
