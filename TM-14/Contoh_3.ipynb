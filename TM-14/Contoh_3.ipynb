{
 "cells": [
  {
   "cell_type": "code",
   "execution_count": 13,
   "metadata": {},
   "outputs": [],
   "source": [
    "import numpy as np\n",
    "from sklearn import datasets\n",
    "from sklearn.model_selection import train_test_split\n",
    "from sklearn.metrics import accuracy_score"
   ]
  },
  {
   "cell_type": "code",
   "execution_count": 14,
   "metadata": {},
   "outputs": [],
   "source": [
    "# load iris dataset\n",
    "iris = datasets.load_iris()\n",
    "X = iris[\"data\"][:, (2, 3)]  # petal length, petal width\n",
    "y = (iris[\"target\"] == 2).astype(int)  # 1 if Iris-Virginica, else 0\n",
    "y = y.reshape([150,1])"
   ]
  },
  {
   "cell_type": "code",
   "execution_count": 15,
   "metadata": {},
   "outputs": [],
   "source": [
    "def sigmoid(z):\n",
    "    return 1 / (1 + np.exp(-z))\n",
    "\n",
    "def sigmoid_derivative(z):\n",
    "    s = sigmoid(z)\n",
    "    return s * (1 - s)\n",
    "\n",
    "class MLP:\n",
    "    def __init__(self, input_size, hidden_size, output_size, learning_rate=0.01):\n",
    "        self.input_size = input_size\n",
    "        self.hidden_size = hidden_size\n",
    "        self.output_size = output_size\n",
    "        self.learning_rate = learning_rate\n",
    "        \n",
    "        # initialize weights randomly\n",
    "        self.weights1 = np.random.randn(self.input_size, self.hidden_size)\n",
    "        self.weights2 = np.random.randn(self.hidden_size, self.output_size)\n",
    "        \n",
    "        # initialize biases to 0\n",
    "        self.bias1 = np.zeros((1, self.hidden_size))\n",
    "        self.bias2 = np.zeros((1, self.output_size))\n",
    "    \n",
    "    def fit(self, X, y, epochs=1000):\n",
    "        for epoch in range(epochs):\n",
    "            # feedforward\n",
    "            layer1 = X.dot(self.weights1) + self.bias1\n",
    "            activation1 = sigmoid(layer1)\n",
    "            layer2 = activation1.dot(self.weights2) + self.bias2\n",
    "            activation2 = sigmoid(layer2)\n",
    "            \n",
    "            # backpropagation\n",
    "            error = activation2 - y\n",
    "            d_weights2 = activation1.T.dot(error * sigmoid_derivative(layer2))\n",
    "            d_bias2 = np.sum(error * sigmoid_derivative(layer2), axis=0, keepdims=True)\n",
    "            error_hidden = error.dot(self.weights2.T) * sigmoid_derivative(layer1)\n",
    "            d_weights1 = X.T.dot(error_hidden)\n",
    "            d_bias1 = np.sum(error_hidden, axis=0, keepdims=True)\n",
    "            \n",
    "            # update weights and biases\n",
    "            self.weights2 -= self.learning_rate * d_weights2\n",
    "            self.bias2 -= self.learning_rate * d_bias2\n",
    "            self.weights1 -= self.learning_rate * d_weights1\n",
    "            self.bias1 -= self.learning_rate * d_bias1\n",
    "#Prediction    \n",
    "    def predict(self, X):\n",
    "        layer1 = X.dot(self.weights1) + self.bias1\n",
    "        activation1 = sigmoid(layer1)\n",
    "        layer2 = activation1.dot(self.weights2) + self.bias2\n",
    "        activation2 = sigmoid(layer2)\n",
    "        return (activation2 > 0.5).astype(int)"
   ]
  },
  {
   "cell_type": "code",
   "execution_count": 16,
   "metadata": {},
   "outputs": [],
   "source": [
    "X_train, X_test, y_train, y_test = train_test_split(X, y, test_size=0.3, random_state=42)\n",
    "# create an instance of the MLP class\n",
    "mlp = MLP(input_size=2, hidden_size=7, output_size=1)\n",
    "# train the MLP on the training data\n",
    "mlp.fit(X_train, y_train)\n",
    "# make predictions on the test data\n",
    "y_pred = mlp.predict(X_test)"
   ]
  },
  {
   "cell_type": "code",
   "execution_count": 17,
   "metadata": {},
   "outputs": [
    {
     "name": "stdout",
     "output_type": "stream",
     "text": [
      "Accuracy: 1.00\n"
     ]
    }
   ],
   "source": [
    "# evaluate the accuracy of the MLP\n",
    "accuracy = np.mean(y_pred == y_test)\n",
    "print(f\"Accuracy: {accuracy:.2f}\")"
   ]
  },
  {
   "cell_type": "code",
   "execution_count": null,
   "metadata": {},
   "outputs": [],
   "source": []
  }
 ],
 "metadata": {
  "kernelspec": {
   "display_name": "Python 3",
   "language": "python",
   "name": "python3"
  },
  "language_info": {
   "codemirror_mode": {
    "name": "ipython",
    "version": 3
   },
   "file_extension": ".py",
   "mimetype": "text/x-python",
   "name": "python",
   "nbconvert_exporter": "python",
   "pygments_lexer": "ipython3",
   "version": "3.10.11"
  }
 },
 "nbformat": 4,
 "nbformat_minor": 2
}
