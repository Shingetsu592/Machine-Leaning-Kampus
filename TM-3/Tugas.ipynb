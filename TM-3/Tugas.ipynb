{
 "cells": [
  {
   "cell_type": "code",
   "execution_count": null,
   "metadata": {},
   "outputs": [],
   "source": [
    "import numpy as np\n",
    "import matplotlib.pyplot as plt\n",
    "import pandas as pd"
   ]
  },
  {
   "cell_type": "code",
   "execution_count": null,
   "metadata": {},
   "outputs": [],
   "source": [
    "# import data and save as dataframe\n",
    "data = pd.read_excel('Mpg_data.xlsx', sheet_name='auto-mpg', usecols=['mpg', 'cylinders',\t'displacement', 'horsepower', 'weight', 'acceleration', 'model year', 'origin', 'car name'])\n",
    "df = pd.DataFrame(data)\n",
    "print(df)"
   ]
  },
  {
   "cell_type": "code",
   "execution_count": null,
   "metadata": {},
   "outputs": [],
   "source": [
    "# replacing '?' value with NaN\n",
    "df['horsepower'].replace('?', np.NaN, inplace = True)\n",
    "# create a variable for horsepower data frame\n",
    "hp_df = df['horsepower']\n",
    "# changing horsepower data type type to float\n",
    "hp_df = hp_df.astype(float)"
   ]
  },
  {
   "cell_type": "code",
   "execution_count": null,
   "metadata": {},
   "outputs": [],
   "source": [
    "# find each attribute mean\n",
    "mpg_mean = np.mean(df['mpg'])\n",
    "cyc_mean = np.mean(df['cylinders'])\n",
    "disp_mean = np.mean(df['displacement'])\n",
    "horse_mean = np.mean(hp_df)\n",
    "weight_mean = np.mean(df['weight'])\n",
    "accel_mean = np.mean(df['acceleration'])\n",
    "year_mean = np.mean(df['model year'])\n",
    "origin_mean = np.mean(df['origin'])"
   ]
  },
  {
   "cell_type": "code",
   "execution_count": null,
   "metadata": {},
   "outputs": [],
   "source": [
    "# print each attribute mean\n",
    "print(\"mpg attribute mean value: \", mpg_mean)\n",
    "print(\"cylinders attribute mean value: \", cyc_mean)\n",
    "print(\"displacement attribute mean value: \", disp_mean)\n",
    "print(\"horsepower attribute mean value: \", horse_mean)\n",
    "print(\"weight attribute mean value: \", weight_mean)\n",
    "print(\"acceleration attribute mean value: \", accel_mean)\n",
    "print(\"model year attribute mean value: \", year_mean)\n",
    "print(\"origin attribute mean value: \", origin_mean)"
   ]
  },
  {
   "cell_type": "code",
   "execution_count": null,
   "metadata": {},
   "outputs": [],
   "source": [
    "# checking maximum value for each attribute\n",
    "mpg_max = np.max(df['mpg'])\n",
    "cyc_max = np.max(df['cylinders'])\n",
    "disp_max = np.max(df['displacement'])\n",
    "horse_max = np.max(hp_df)\n",
    "weight_max = np.max(df['weight'])\n",
    "accel_max = np.max(df['acceleration'])\n",
    "year_max = np.max(df['model year'])\n",
    "origin_max = np.max(df['origin'])"
   ]
  },
  {
   "cell_type": "code",
   "execution_count": null,
   "metadata": {},
   "outputs": [],
   "source": [
    "# print maximum value for each attribute\n",
    "print(\"mpg attribute maximum value: \", mpg_max)\n",
    "print(\"cylinders attribute maximum value: \", cyc_max)\n",
    "print(\"displacement attribute maximum value: \", disp_max)\n",
    "print(\"horsepower attribute maximum value: \", horse_max)\n",
    "print(\"weight attribute maximum value: \", weight_max)\n",
    "print(\"acceleration attribute maximum value: \", accel_max)\n",
    "print(\"model year attribute maximum value: \", year_max)\n",
    "print(\"origin attribute maximum value: \", origin_max)"
   ]
  },
  {
   "cell_type": "code",
   "execution_count": null,
   "metadata": {},
   "outputs": [],
   "source": [
    "# checking minimum value for each attribute\n",
    "mpg_min = np.min(df['mpg'])\n",
    "cyc_min = np.min(df['cylinders'])\n",
    "disp_min = np.min(df['displacement'])\n",
    "horse_min = np.min(hp_df)\n",
    "weight_min = np.min(df['weight'])\n",
    "accel_min = np.min(df['acceleration'])\n",
    "year_min = np.min(df['model year'])\n",
    "origin_min = np.min(df['origin'])"
   ]
  },
  {
   "cell_type": "code",
   "execution_count": null,
   "metadata": {},
   "outputs": [],
   "source": [
    "# print minimum value for each attribute\n",
    "print(\"mpg attribute minimum value: \", mpg_min)\n",
    "print(\"cylinders attribute minimum value: \", cyc_min)\n",
    "print(\"displacement attribute minimum value: \", disp_min)\n",
    "print(\"horsepower attribute minimum value: \", horse_min)\n",
    "print(\"weight attribute minimum value: \", weight_min)\n",
    "print(\"acceleration attribute minimum value: \", accel_min)\n",
    "print(\"model year attribute minimum value: \", year_min)\n",
    "print(\"origin attribute minimum value: \", origin_min)"
   ]
  },
  {
   "cell_type": "code",
   "execution_count": null,
   "metadata": {},
   "outputs": [],
   "source": [
    "# count frequency of a value for each attribute\n",
    "mpg_value, mpg_counts = np.unique(df['mpg'], return_counts = True)\n",
    "cyc_value, cyc_counts = np.unique(df['cylinders'], return_counts = True)\n",
    "disp_value, disp_counts = np.unique(df['displacement'], return_counts = True)\n",
    "horse_value, horse_counts = np.unique(hp_df, return_counts = True)\n",
    "weight_value, weight_counts = np.unique(df['weight'], return_counts = True)\n",
    "accel_value, accel_counts = np.unique(df['acceleration'], return_counts = True)\n",
    "year_value, year_counts = np.unique(df['model year'], return_counts = True)\n",
    "origin_value, origin_counts = np.unique(df['origin'], return_counts = True)"
   ]
  },
  {
   "cell_type": "code",
   "execution_count": null,
   "metadata": {},
   "outputs": [],
   "source": [
    "# print most frequent data for each attribute\n",
    "print(\"mpg attribute most frequent value: \", mpg_value[mpg_counts.argmax()])\n",
    "print(\"cylinders attribute most frequent value: \", cyc_value[cyc_counts.argmax()])\n",
    "print(\"displacement attribute most frequent value: \", disp_value[disp_counts.argmax()])\n",
    "print(\"horsepower attribute most frequent value: \", horse_value[horse_counts.argmax()])\n",
    "print(\"weight attribute most frequent value: \", weight_value[weight_counts.argmax()])\n",
    "print(\"acceleration attribute most frequent value: \", accel_value[accel_counts.argmax()])\n",
    "print(\"model year attribute most frequent value: \", year_value[year_counts.argmax()])\n",
    "print(\"origin attribute most frequent value: \", origin_value[origin_counts.argmax()])"
   ]
  },
  {
   "cell_type": "code",
   "execution_count": null,
   "metadata": {},
   "outputs": [],
   "source": [
    "# missing value or NaN diagnosis\n",
    "print(df.isnull().sum())"
   ]
  },
  {
   "cell_type": "code",
   "execution_count": null,
   "metadata": {},
   "outputs": [],
   "source": [
    "# finding outlier data using statistics method\n",
    "# creating quartile 1 for each attribute\n",
    "mpg_Q1 = np.quantile(df['mpg'], .25)\n",
    "cyc_Q1 = np.quantile(df['cylinders'], .25)\n",
    "disp_Q1 = np.quantile(df['displacement'], .25)\n",
    "horse_Q1 = np.quantile(hp_df, .25)\n",
    "weight_Q1 = np.quantile(df['weight'], .25)\n",
    "accel_Q1 = np.quantile(df['acceleration'], .25)\n",
    "year_Q1 = np.quantile(df['model year'], .25)\n",
    "origin_Q1 = np.quantile(df['origin'], .25)"
   ]
  },
  {
   "cell_type": "code",
   "execution_count": null,
   "metadata": {},
   "outputs": [],
   "source": [
    "# creating quartile 3 for each attribute\n",
    "mpg_Q3 = np.quantile(df['mpg'], .75)\n",
    "cyc_Q3 = np.quantile(df['cylinders'], .75)\n",
    "disp_Q3 = np.quantile(df['displacement'], .75)\n",
    "horse_Q3 = np.quantile(hp_df, .75)\n",
    "weight_Q3 = np.quantile(df['weight'], .75)\n",
    "accel_Q3 = np.quantile(df['acceleration'], .75)\n",
    "year_Q3 = np.quantile(df['model year'], .75)\n",
    "origin_Q3 = np.quantile(df['origin'], .75)"
   ]
  },
  {
   "cell_type": "code",
   "execution_count": null,
   "metadata": {},
   "outputs": [],
   "source": [
    "# creating IQR for each attribute\n",
    "mpg_IQR = mpg_Q3 - mpg_Q1\n",
    "cyc_IQR = cyc_Q3 - cyc_Q1\n",
    "disp_IQR = disp_Q3 - disp_Q1\n",
    "horse_IQR = horse_Q3 - horse_Q1\n",
    "weight_IQR = weight_Q3 - weight_Q1\n",
    "accel_IQR = accel_Q3 - accel_Q1\n",
    "year_IQR = year_Q3 - year_Q1\n",
    "origin_IQR = origin_Q3 - origin_Q1"
   ]
  },
  {
   "cell_type": "code",
   "execution_count": null,
   "metadata": {},
   "outputs": [],
   "source": [
    "# finding lower outlier value\n",
    "mpg_Min_IQR = mpg_Q1 - 1.5 * mpg_IQR\n",
    "cyc_Min_IQR = cyc_Q1 - 1.5 * cyc_IQR\n",
    "disp_Min_IQR = disp_Q1 - 1.5 * disp_IQR\n",
    "horse_Min_IQR = horse_Q1 - 1.5 * horse_IQR\n",
    "weight_Min_IQR = weight_Q1 - 1.5 * weight_IQR\n",
    "accel_Min_IQR = accel_Q1 - 1.5 * accel_IQR\n",
    "year_Min_IQR = year_Q1 - 1.5 * year_IQR\n",
    "origin_Min_IQR = origin_Q1 - 1.5 * origin_IQR"
   ]
  },
  {
   "cell_type": "code",
   "execution_count": null,
   "metadata": {},
   "outputs": [],
   "source": [
    "# finding higher outlier value\n",
    "mpg_Max_IQR = mpg_Q3 + 1.5 * mpg_IQR\n",
    "cyc_Max_IQR = cyc_Q3 + 1.5 * cyc_IQR\n",
    "disp_Max_IQR = disp_Q3 + 1.5 * disp_IQR\n",
    "horse_Max_IQR = horse_Q3 + 1.5 * horse_IQR\n",
    "weight_Max_IQR = weight_Q3 + 1.5 * weight_IQR\n",
    "accel_Max_IQR = accel_Q3 + 1.5 * accel_IQR\n",
    "year_Max_IQR = year_Q3 + 1.5 * year_IQR\n",
    "origin_Max_IQR = origin_Q3 + 1.5 * origin_IQR"
   ]
  },
  {
   "cell_type": "code",
   "execution_count": null,
   "metadata": {},
   "outputs": [],
   "source": [
    "# printing all outlier value\n",
    "(df[(df.mpg > mpg_Max_IQR) | (df.mpg < mpg_Min_IQR)])"
   ]
  },
  {
   "cell_type": "code",
   "execution_count": null,
   "metadata": {},
   "outputs": [],
   "source": [
    "(df[(df.cylinders > cyc_Max_IQR) | (df.cylinders < cyc_Min_IQR)])"
   ]
  },
  {
   "cell_type": "code",
   "execution_count": null,
   "metadata": {},
   "outputs": [],
   "source": [
    "(df[(df.displacement > disp_Max_IQR) | (df.displacement < disp_Min_IQR)])"
   ]
  },
  {
   "cell_type": "code",
   "execution_count": null,
   "metadata": {},
   "outputs": [],
   "source": [
    "(df[(df.horsepower > horse_Max_IQR) | (df.horsepower < horse_Min_IQR)])"
   ]
  },
  {
   "cell_type": "code",
   "execution_count": null,
   "metadata": {},
   "outputs": [],
   "source": [
    "(df[(df.weight > weight_Max_IQR) | (df.weight < weight_Min_IQR)])"
   ]
  },
  {
   "cell_type": "code",
   "execution_count": null,
   "metadata": {},
   "outputs": [],
   "source": [
    "(df[(df.acceleration > accel_Max_IQR) | (df.acceleration < accel_Min_IQR)])"
   ]
  },
  {
   "cell_type": "code",
   "execution_count": null,
   "metadata": {},
   "outputs": [],
   "source": [
    "(df[(df['model year'] > year_Max_IQR) | (df['model year'] < year_Min_IQR)])"
   ]
  },
  {
   "cell_type": "code",
   "execution_count": null,
   "metadata": {},
   "outputs": [],
   "source": [
    "(df[(df.origin > origin_Max_IQR) | (df.origin < origin_Min_IQR)])"
   ]
  },
  {
   "cell_type": "code",
   "execution_count": null,
   "metadata": {},
   "outputs": [],
   "source": [
    "# replacing mpg missing data with mpg mean data\n",
    "df['mpg'].replace(np.NaN, mpg_mean, inplace = True)"
   ]
  },
  {
   "cell_type": "code",
   "execution_count": null,
   "metadata": {},
   "outputs": [],
   "source": [
    "# replacing horsepower data with horse power most frequent data\n",
    "df['horsepower'].replace(np.NaN, horse_value[horse_counts.argmax()], inplace = True)\n",
    "# changing horsepower data type type to float\n",
    "df['horsepower'].astype(float)"
   ]
  },
  {
   "cell_type": "code",
   "execution_count": null,
   "metadata": {},
   "outputs": [],
   "source": [
    "# checking missing data\n",
    "print(df.isnull().sum())"
   ]
  }
 ],
 "metadata": {
  "kernelspec": {
   "display_name": "Python 3",
   "language": "python",
   "name": "python3"
  },
  "language_info": {
   "codemirror_mode": {
    "name": "ipython",
    "version": 3
   },
   "file_extension": ".py",
   "mimetype": "text/x-python",
   "name": "python",
   "nbconvert_exporter": "python",
   "pygments_lexer": "ipython3",
   "version": "3.9.11"
  },
  "orig_nbformat": 4
 },
 "nbformat": 4,
 "nbformat_minor": 2
}
