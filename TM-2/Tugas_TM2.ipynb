{
 "cells": [
  {
   "cell_type": "code",
   "execution_count": 6,
   "metadata": {},
   "outputs": [],
   "source": [
    "import numpy as np\n",
    "import pandas as pd\n",
    "import math\n",
    "import random\n",
    "import matplotlib.pyplot as plt"
   ]
  },
  {
   "cell_type": "code",
   "execution_count": 7,
   "metadata": {},
   "outputs": [
    {
     "name": "stdout",
     "output_type": "stream",
     "text": [
      "        wconfid  pctid      x      y      z\n",
      "0             1     20  1.004  0.090 -0.125\n",
      "1             1     20  1.004 -0.043 -0.125\n",
      "2             1     20  0.969  0.090 -0.121\n",
      "3             1     20  0.973 -0.012 -0.137\n",
      "4             1     20  1.000 -0.016 -0.121\n",
      "...         ...    ...    ...    ...    ...\n",
      "152995        3    100  1.051  0.090 -0.262\n",
      "152996        3    100  0.918  0.039 -0.129\n",
      "152997        3    100  1.156 -0.094 -0.227\n",
      "152998        3    100  0.934  0.203 -0.172\n",
      "152999        3    100  1.199 -0.176  0.109\n",
      "\n",
      "[153000 rows x 5 columns]\n"
     ]
    }
   ],
   "source": [
    "# import csv data using pandas\n",
    "data = pd.read_csv(r'accelerometer.csv')\n",
    "print(data)"
   ]
  },
  {
   "cell_type": "code",
   "execution_count": 12,
   "metadata": {},
   "outputs": [
    {
     "data": {
      "text/plain": [
       "20     9000\n",
       "65     9000\n",
       "95     9000\n",
       "90     9000\n",
       "85     9000\n",
       "80     9000\n",
       "75     9000\n",
       "70     9000\n",
       "60     9000\n",
       "25     9000\n",
       "55     9000\n",
       "50     9000\n",
       "45     9000\n",
       "40     9000\n",
       "35     9000\n",
       "30     9000\n",
       "100    9000\n",
       "Name: pctid, dtype: int64"
      ]
     },
     "execution_count": 12,
     "metadata": {},
     "output_type": "execute_result"
    }
   ],
   "source": [
    "data[\"pctid\"].value_counts()"
   ]
  },
  {
   "cell_type": "code",
   "execution_count": 14,
   "metadata": {},
   "outputs": [
    {
     "name": "stdout",
     "output_type": "stream",
     "text": [
      "        wconfid  pctid      x      y      z\n",
      "9000          1     35  1.004  0.055 -0.117\n",
      "9001          1     35  0.965 -0.020 -0.148\n",
      "9002          1     35  0.969 -0.051 -0.137\n",
      "9003          1     35  1.035 -0.023 -0.117\n",
      "9004          1     35  1.008 -0.039 -0.121\n",
      "...         ...    ...    ...    ...    ...\n",
      "113995        3     35  0.984 -0.027 -0.152\n",
      "113996        3     35  1.000 -0.023 -0.113\n",
      "113997        3     35  1.055  0.066 -0.117\n",
      "113998        3     35  0.973 -0.004 -0.137\n",
      "113999        3     35  1.004 -0.023 -0.125\n",
      "\n",
      "[9000 rows x 5 columns]\n"
     ]
    }
   ],
   "source": [
    "# initial data frame\n",
    "df = pd.DataFrame(data)\n",
    "# filtering data\n",
    "fd = df[df[\"pctid\"] == 35]\n",
    "print(fd)"
   ]
  },
  {
   "cell_type": "code",
   "execution_count": 16,
   "metadata": {},
   "outputs": [],
   "source": [
    "# data frame filtered data \n",
    "df_fd = pd.DataFrame(fd)\n",
    "# data frame filtered data x\n",
    "fx = pd.DataFrame(df_fd, columns=['x'])\n",
    "# data frame filtered data y\n",
    "fy = pd.DataFrame(df_fd, columns=['y'])\n",
    "# data frame filtered data z\n",
    "fz = pd.DataFrame(df_fd, columns=['z'])"
   ]
  },
  {
   "cell_type": "code",
   "execution_count": 33,
   "metadata": {},
   "outputs": [
    {
     "data": {
      "image/png": "[encoded data removed]",
      "text/plain": [
       "<Figure size 432x288 with 1 Axes>"
      ]
     },
     "metadata": {
      "needs_background": "light"
     },
     "output_type": "display_data"
    }
   ],
   "source": [
    "plt.title(\"grafik kecepatan rotasi 35 (pctid)\")\n",
    "plt.plot(fx, color = '#F0B86E')\n",
    "plt.plot(fy, color = '#64CCC5')\n",
    "plt.plot(fz, color = '#9F91CC')\n",
    "plt.xlabel(\"Data\")\n",
    "plt.ylabel(\"Vibration Value\")\n",
    "plt.show()"
   ]
  }
 ],
 "metadata": {
  "kernelspec": {
   "display_name": "Python 3",
   "language": "python",
   "name": "python3"
  },
  "language_info": {
   "codemirror_mode": {
    "name": "ipython",
    "version": 3
   },
   "file_extension": ".py",
   "mimetype": "text/x-python",
   "name": "python",
   "nbconvert_exporter": "python",
   "pygments_lexer": "ipython3",
   "version": "3.9.11"
  },
  "orig_nbformat": 4
 },
 "nbformat": 4,
 "nbformat_minor": 2
}
