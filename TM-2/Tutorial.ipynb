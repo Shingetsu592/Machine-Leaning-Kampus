{
 "cells": [
  {
   "cell_type": "code",
   "execution_count": 1,
   "metadata": {},
   "outputs": [],
   "source": [
    "import numpy as np\n",
    "import pandas as pd\n",
    "import math\n",
    "import random\n",
    "import matplotlib.pyplot as plt"
   ]
  },
  {
   "cell_type": "code",
   "execution_count": 2,
   "metadata": {},
   "outputs": [],
   "source": [
    "# defining the columns using normal distribution\n",
    "# column 1\n",
    "point1 = abs(np.random.normal(1, 12, 100))\n",
    "# column 2\n",
    "point2 = abs(np.random.normal(2, 8, 100))\n",
    "# column 3\n",
    "point3 = abs(np.random.normal(3, 2, 100))\n",
    "# column 4\n",
    "point4 = abs(np.random.normal(10, 15, 100))"
   ]
  },
  {
   "cell_type": "code",
   "execution_count": 3,
   "metadata": {},
   "outputs": [],
   "source": [
    "# x contains the features of our dataset\n",
    "# the points are concatenated horizontally\n",
    "# using numpy to form a feature vector.\n",
    "x = np.c_[point1, point2, point3, point4]\n",
    "# the output labels vary from 0-3\n",
    "y = [int(np.random.randint(0, 4)) for i in range(100)]\n",
    "\n",
    "# defining a pandas data frame to save\n",
    "# the data for later use\n",
    "data = pd.DataFrame()"
   ]
  },
  {
   "cell_type": "code",
   "execution_count": 4,
   "metadata": {},
   "outputs": [],
   "source": [
    "# defining the columns of the dataset\n",
    "data['col1'] = point1\n",
    "data['col2'] = point2\n",
    "data['col3'] = point3\n",
    "data['col4'] = point4"
   ]
  },
  {
   "cell_type": "code",
   "execution_count": 5,
   "metadata": {},
   "outputs": [
    {
     "data": {
      "image/png": "[encoded data removed]",
      "text/plain": [
       "<Figure size 432x288 with 4 Axes>"
      ]
     },
     "metadata": {
      "needs_background": "light"
     },
     "output_type": "display_data"
    }
   ],
   "source": [
    "# plotting the various features (x)\n",
    "# against the labels (y).\n",
    "plt.subplot(2, 2, 1)\n",
    "plt.title('Kolom 1')\n",
    "plt.scatter(y, point1, color ='r', label ='kolom1')\n",
    "\n",
    "plt.subplot(2, 2, 2)\n",
    "plt.title('Kolom 2')\n",
    "plt.scatter(y, point2, color = 'g', label ='kolom2')\n",
    "\n",
    "plt.subplot(2, 2, 3)\n",
    "plt.title('Kolom 3')\n",
    "plt.scatter(y, point3, color ='b', label ='kolom3')\n",
    "\n",
    "plt.subplot(2, 2, 4)\n",
    "plt.title('Kolom 4')\n",
    "plt.scatter(y, point4, color ='y', label ='kolom4')\n",
    "\n",
    "# saving the graph\n",
    "plt.savefig('data_visualization.jpg')\n",
    "\n",
    "# displaying the graph\n",
    "plt.show()"
   ]
  }
 ],
 "metadata": {
  "kernelspec": {
   "display_name": "Python 3",
   "language": "python",
   "name": "python3"
  },
  "language_info": {
   "codemirror_mode": {
    "name": "ipython",
    "version": 3
   },
   "file_extension": ".py",
   "mimetype": "text/x-python",
   "name": "python",
   "nbconvert_exporter": "python",
   "pygments_lexer": "ipython3",
   "version": "3.9.11"
  },
  "orig_nbformat": 4
 },
 "nbformat": 4,
 "nbformat_minor": 2
}
