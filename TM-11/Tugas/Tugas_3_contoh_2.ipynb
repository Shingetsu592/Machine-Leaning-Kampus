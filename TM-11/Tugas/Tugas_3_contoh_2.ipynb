{
 "cells": [
  {
   "cell_type": "code",
   "execution_count": 14,
   "metadata": {},
   "outputs": [],
   "source": [
    "import numpy as np\n",
    "import time\n",
    "from sklearn.cluster import AgglomerativeClustering\n",
    "from sklearn.metrics.pairwise import euclidean_distances\n",
    "from scipy.cluster import hierarchy\n",
    "import matplotlib.pyplot as plt\n",
    "from sklearn.datasets import make_classification\n",
    "import pandas as pd\n",
    "import datetime\n",
    "import operator\n",
    "import math\n",
    "import random\n",
    "plt.style.use('ggplot')"
   ]
  },
  {
   "cell_type": "code",
   "execution_count": 15,
   "metadata": {},
   "outputs": [
    {
     "name": "stderr",
     "output_type": "stream",
     "text": [
      "C:\\Users\\M-SI\\AppData\\Roaming\\Python\\Python39\\site-packages\\IPython\\core\\interactiveshell.py:3441: DtypeWarning: Columns (0,27) have mixed types.Specify dtype option on import or set low_memory=False.\n",
      "  exec(code_obj, self.user_global_ns, self.user_ns)\n"
     ]
    }
   ],
   "source": [
    "#Load Dataset\n",
    "Home_data = pd.read_csv('HomeC.csv', low_memory=False)\n",
    "nan_removed = pd.DataFrame.dropna(pd.DataFrame(Home_data))"
   ]
  },
  {
   "cell_type": "code",
   "execution_count": 16,
   "metadata": {},
   "outputs": [
    {
     "data": {
      "text/plain": [
       "array([[37.14, 30.36],\n",
       "       [37.14, 30.36],\n",
       "       [37.14, 30.36],\n",
       "       ...,\n",
       "       [36.63, 29.03],\n",
       "       [36.63, 29.03],\n",
       "       [36.63, 29.03]])"
      ]
     },
     "execution_count": 16,
     "metadata": {},
     "output_type": "execute_result"
    }
   ],
   "source": [
    "# df = pd.DataFrame(nan_removed)\n",
    "df_selected = nan_removed[nan_removed['summary'].str.contains('Breezy', case = False).fillna(False) | nan_removed['summary'].str.contains('Flurries', case = False).fillna(False) | nan_removed['summary'].str.contains('overcast', case = False).fillna(False)] \n",
    "X = (df_selected[['temperature', 'apparentTemperature']]).values\n",
    "y = df_selected['use [kW]'].values\n",
    "data = X\n",
    "X"
   ]
  },
  {
   "cell_type": "code",
   "execution_count": 17,
   "metadata": {},
   "outputs": [],
   "source": [
    "# Definisi Kelas Hierarchical Clustering Manual\n",
    "class HC:\n",
    "    def __init__(self, verbose=False, linkage_type='complete'):\n",
    "        self.verbose= verbose\n",
    "        self.linkage_type = linkage_type\n",
    "\n",
    "    def argmin(self, D):\n",
    "        \"\"\"\n",
    "        Given a 2D array, returns the minimum value that is not in the main diagonal, i.e x==y\n",
    "        and (x,y) index of that value.\n",
    "        \"\"\"\n",
    "        minx, miny = (0,0)\n",
    "        min_val = 10e5\n",
    "        for i in range(D.shape[0]):\n",
    "            for j in range(D.shape[0]):\n",
    "                if j==i:\n",
    "                    continue\n",
    "                else:\n",
    "                    if D[i,j] < min_val:\n",
    "                        min_val = D[i,j]\n",
    "                        minx = i\n",
    "                        miny = j\n",
    "\n",
    "        return min_val, minx, miny\n",
    "\n",
    "    def cluster_distance(self, cluster_members):\n",
    "        \"\"\"\n",
    "        Calculates the cluster euclidean distances.\n",
    "\n",
    "        Params\n",
    "        ------\n",
    "        cluster_members: dict.\n",
    "            stores the cluster members in format: {key: [item1, item2 ..]}.\n",
    "            if key is less than X.shape[0] then, it only has itself in the cluster.\n",
    "\n",
    "        Returns\n",
    "        -------\n",
    "        Distance: 2D array.\n",
    "            Contains distances between each cluster.\n",
    "        \"\"\"\n",
    "        nClusters = len(cluster_members)\n",
    "        keys = list(cluster_members.keys())\n",
    "        Distance = np.zeros((nClusters, nClusters))\n",
    "        for i in range(nClusters):\n",
    "            ith_elems = cluster_members[keys[i]]\n",
    "            for j in range(nClusters):\n",
    "                jth_elems = cluster_members[keys[j]]\n",
    "                d_in_clusters = euclidean_distances(X[ith_elems], X[jth_elems])\n",
    "                if self.linkage_type == 'complete':\n",
    "                    dij = np.max(d_in_clusters)\n",
    "                elif self.linkage_type == 'single':\n",
    "                    dij = np.min(d_in_clusters)\n",
    "                Distance[i,j] = dij\n",
    "\n",
    "        # so Distance has minimum distance between clusters\n",
    "        # row and col of Distance denotes element in `keys`\n",
    "        return Distance\n",
    "\n",
    "    def fit(self, X):\n",
    "        \"\"\"\n",
    "        Generates the dendrogram.\n",
    "\n",
    "        Params\n",
    "        ------\n",
    "        X: Dataset, shape (nSamples, nFeatures)\n",
    "\n",
    "        Returns\n",
    "        -------\n",
    "        Z: 2D array. shape (nSamples-1, 4).\n",
    "            Linkage matrix. Stores the merge information at each iteration.\n",
    "        \"\"\"\n",
    "        self.nSamples = X.shape[0]\n",
    "\n",
    "        cluster_members = dict([(i,[i]) for i in range(self.nSamples)])\n",
    "        Z = np.zeros((self.nSamples-1,4)) # c1, c2, d, count\n",
    "\n",
    "        for i in range(0, self.nSamples-1):\n",
    "            if self.verbose:\n",
    "                print(f'\\n-------\\nDebug Line at, i={i}\\n--------')\n",
    "\n",
    "            nClusters = len(cluster_members)\n",
    "            keys = list(cluster_members.keys())\n",
    "            # caculate the distance between existing clusters\n",
    "            D = self.cluster_distance(cluster_members)\n",
    "            _, tmpx, tmpy = self.argmin(D)\n",
    "#             tmpx, tmpy = np.unravel_index(np.argmin(D), shape=D.shape)\n",
    "            if self.verbose:\n",
    "                print(f'Z:\\n{Z}, \\nCluster Members: {cluster_members}, D: \\n {D}')\n",
    "\n",
    "            x = keys[tmpx]\n",
    "            y = keys[tmpy]\n",
    "            # update Z\n",
    "            Z[i,0] = x\n",
    "            Z[i,1] = y\n",
    "            Z[i,2] = D[tmpx, tmpy] # that's where the min value is\n",
    "            Z[i,3] = len(cluster_members[x]) + len(cluster_members[y])\n",
    "\n",
    "            # new cluster created\n",
    "            cluster_members[i+self.nSamples] = cluster_members[x] + cluster_members[y]\n",
    "            # remove merged from clusters pool, else they'll be recalculated\n",
    "            del cluster_members[x]\n",
    "            del cluster_members[y]\n",
    "\n",
    "        self.Z = Z\n",
    "        return self.Z\n",
    "\n",
    "    def predict(self, n_cluster=3):\n",
    "        \"\"\"\n",
    "        Get cluster label for specific cluster size.\n",
    "\n",
    "        Params\n",
    "        ------\n",
    "        n_cluster: int.\n",
    "            Number of clusters to keep. Can not be > nSamples\n",
    "\n",
    "        Returns\n",
    "        -------\n",
    "        labels: list.\n",
    "            Cluster labels for each sample.\n",
    "        \"\"\"\n",
    "        labels = np.zeros((self.nSamples))\n",
    "        cluster_members = dict([(i,[i]) for i in range(self.nSamples)])\n",
    "        for i in range(self.nSamples - n_cluster):\n",
    "            x,y = (Z[i,0], Z[i,1])\n",
    "            cluster_members[self.nSamples + i] = cluster_members[x] + cluster_members[y]\n",
    "            del cluster_members[x]\n",
    "            del cluster_members[y]\n",
    "\n",
    "        keys = list(cluster_members.keys())\n",
    "\n",
    "        for i in range(len(keys)):\n",
    "            samples_in_cluster = cluster_members[keys[i]]\n",
    "            labels[samples_in_cluster] = i\n",
    "\n",
    "        return labels"
   ]
  },
  {
   "cell_type": "code",
   "execution_count": 18,
   "metadata": {},
   "outputs": [],
   "source": [
    "# Latih Model Hierarchical Clustering Manual\n",
    "start_time = time.time()\n",
    "hc = HC(linkage_type = 'complete')\n",
    "Z = hc.fit(X)\n",
    "myLabel=hc.predict(n_cluster=3)\n",
    "end_time=time.time()\n",
    "manual_execution_time = end_time - start_time\n",
    "print(f\"Manual Hierarchical Clustering Execution Time: {manual_execution_time} seconds\")"
   ]
  },
  {
   "cell_type": "code",
   "execution_count": null,
   "metadata": {},
   "outputs": [
    {
     "name": "stdout",
     "output_type": "stream",
     "text": [
      "Sklearn Hierarchical Clustering Execution Time: 1.6089415550231934 seconds\n"
     ]
    }
   ],
   "source": [
    "# Latih Model Hierarchical Clustering dari Library Sklearn\n",
    "start_time = time.time()\n",
    "clustering = AgglomerativeClustering(n_clusters = 3, linkage = 'complete').fit(X)\n",
    "skLabel = clustering.labels_\n",
    "end_time=time.time()\n",
    "sklearn_execution_time = end_time- start_time\n",
    "print(f\"Sklearn Hierarchical Clustering Execution Time: {sklearn_execution_time} seconds\")"
   ]
  },
  {
   "cell_type": "code",
   "execution_count": null,
   "metadata": {},
   "outputs": [
    {
     "ename": "NameError",
     "evalue": "name 'myLabel' is not defined",
     "output_type": "error",
     "traceback": [
      "\u001b[1;31m---------------------------------------------------------------------------\u001b[0m",
      "\u001b[1;31mNameError\u001b[0m                                 Traceback (most recent call last)",
      "\u001b[1;32m~\\AppData\\Local\\Temp/ipykernel_16228/1626246747.py\u001b[0m in \u001b[0;36m<module>\u001b[1;34m\u001b[0m\n\u001b[0;32m      4\u001b[0m \u001b[1;31m# Plot Data Cluster\u001b[0m\u001b[1;33m\u001b[0m\u001b[1;33m\u001b[0m\u001b[0m\n\u001b[0;32m      5\u001b[0m \u001b[1;32mfor\u001b[0m \u001b[0mi\u001b[0m \u001b[1;32min\u001b[0m \u001b[0mrange\u001b[0m\u001b[1;33m(\u001b[0m\u001b[1;36m3\u001b[0m\u001b[1;33m)\u001b[0m\u001b[1;33m:\u001b[0m\u001b[1;33m\u001b[0m\u001b[1;33m\u001b[0m\u001b[0m\n\u001b[1;32m----> 6\u001b[1;33m     \u001b[0mmyIndices\u001b[0m \u001b[1;33m=\u001b[0m \u001b[0mmyLabel\u001b[0m\u001b[1;33m==\u001b[0m\u001b[0mi\u001b[0m\u001b[1;33m\u001b[0m\u001b[1;33m\u001b[0m\u001b[0m\n\u001b[0m\u001b[0;32m      7\u001b[0m     \u001b[0mskIndices\u001b[0m \u001b[1;33m=\u001b[0m \u001b[0mskLabel\u001b[0m\u001b[1;33m==\u001b[0m\u001b[0mi\u001b[0m\u001b[1;33m\u001b[0m\u001b[1;33m\u001b[0m\u001b[0m\n\u001b[0;32m      8\u001b[0m     \u001b[0max\u001b[0m\u001b[1;33m[\u001b[0m\u001b[1;36m0\u001b[0m\u001b[1;33m,\u001b[0m\u001b[1;36m0\u001b[0m\u001b[1;33m]\u001b[0m\u001b[1;33m.\u001b[0m\u001b[0mscatter\u001b[0m\u001b[1;33m(\u001b[0m\u001b[0mx\u001b[0m\u001b[1;33m=\u001b[0m\u001b[0mX\u001b[0m\u001b[1;33m[\u001b[0m\u001b[0mmyIndices\u001b[0m\u001b[1;33m,\u001b[0m\u001b[1;36m0\u001b[0m\u001b[1;33m]\u001b[0m\u001b[1;33m,\u001b[0m \u001b[0my\u001b[0m\u001b[1;33m=\u001b[0m\u001b[0mX\u001b[0m\u001b[1;33m[\u001b[0m\u001b[0mmyIndices\u001b[0m\u001b[1;33m,\u001b[0m\u001b[1;36m1\u001b[0m\u001b[1;33m]\u001b[0m\u001b[1;33m,\u001b[0m\u001b[0mlabel\u001b[0m\u001b[1;33m=\u001b[0m\u001b[0mi\u001b[0m\u001b[1;33m)\u001b[0m\u001b[1;33m\u001b[0m\u001b[1;33m\u001b[0m\u001b[0m\n",
      "\u001b[1;31mNameError\u001b[0m: name 'myLabel' is not defined"
     ]
    },
    {
     "data": {
      "image/png": "[encoded data removed]",
      "text/plain": [
       "<Figure size 1800x1200 with 4 Axes>"
      ]
     },
     "metadata": {},
     "output_type": "display_data"
    }
   ],
   "source": [
    "# Visualisasi Data\n",
    "fig, ax = plt.subplots(2,2,facecolor='white',figsize=(15,5*2),dpi=120)\n",
    "\n",
    "# Plot Data Cluster\n",
    "for i in range(3):\n",
    "    myIndices = myLabel==i\n",
    "    skIndices = skLabel==i\n",
    "    ax[0,0].scatter(x=X[myIndices,0], y=X[myIndices,1],label=i)\n",
    "    ax[0,1].scatter(x=X[skIndices,0], y=X[skIndices,1],label=i)\n",
    "\n",
    "ax[0,0].set_title('Custom | Cluster')\n",
    "ax[0,1].set_title('Sklearn | Cluster')\n",
    "ax[0,0].legend()\n",
    "ax[0,1].legend()\n",
    "\n",
    "# Dendrogram\n",
    "z = hierarchy.linkage(X, 'complete') # scipy agglomerative cluster\n",
    "hierarchy.dendrogram(Z, ax=ax[1,0]) # plotting mine with their function\n",
    "hierarchy.dendrogram(z, ax=ax[1,1]) # plotting their with their function\n",
    "\n",
    "ax[1,0].set_title('Custom | Dendrogram')\n",
    "ax[1,1].set_title('Sklearn | Dendrogram')\n",
    "plt.show()"
   ]
  },
  {
   "cell_type": "code",
   "execution_count": null,
   "metadata": {},
   "outputs": [],
   "source": []
  }
 ],
 "metadata": {
  "kernelspec": {
   "display_name": "Python 3",
   "language": "python",
   "name": "python3"
  },
  "language_info": {
   "codemirror_mode": {
    "name": "ipython",
    "version": 3
   },
   "file_extension": ".py",
   "mimetype": "text/x-python",
   "name": "python",
   "nbconvert_exporter": "python",
   "pygments_lexer": "ipython3",
   "version": "3.9.11"
  }
 },
 "nbformat": 4,
 "nbformat_minor": 2
}
