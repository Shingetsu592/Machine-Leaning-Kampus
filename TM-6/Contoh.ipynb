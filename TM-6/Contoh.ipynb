{
 "cells": [
  {
   "cell_type": "code",
   "execution_count": 1,
   "metadata": {},
   "outputs": [],
   "source": [
    "def permintaan_turun(x):\n",
    "    if(x<=1000):\n",
    "        nilai = 1\n",
    "    elif(x>1000 and x<5000):\n",
    "        nilai = (5000-x)/(4000)\n",
    "    elif(x>=5000):\n",
    "        nilai = 0\n",
    "\n",
    "    return nilai"
   ]
  },
  {
   "cell_type": "code",
   "execution_count": 2,
   "metadata": {},
   "outputs": [],
   "source": [
    "def permintaan_naik(x):\n",
    "    if(x<=1000):\n",
    "        nilai = 0\n",
    "    elif(x>1000 and x<5000):\n",
    "        nilai = (x-1000)/(4000)\n",
    "    elif(x>=5000):\n",
    "        nilai = 1\n",
    "    return nilai"
   ]
  },
  {
   "cell_type": "code",
   "execution_count": 3,
   "metadata": {},
   "outputs": [],
   "source": [
    "def persediaan_sedikit(x):\n",
    "    if(x<=100):\n",
    "        nilai = 1\n",
    "    elif(x>100 and x<600):\n",
    "        nilai = (600-x)/(500)\n",
    "    elif(x>=600):\n",
    "        nilai = 0\n",
    "\n",
    "    return nilai"
   ]
  },
  {
   "cell_type": "code",
   "execution_count": 4,
   "metadata": {},
   "outputs": [],
   "source": [
    "def persediaan_banyak(x):\n",
    "    if(x<=100):\n",
    "        nilai = 0\n",
    "    elif(x>100 and x<600):\n",
    "        nilai = (x-100)/(500)\n",
    "    elif(x>=600):\n",
    "        nilai = 1\n",
    "\n",
    "    return nilai"
   ]
  },
  {
   "cell_type": "code",
   "execution_count": 5,
   "metadata": {},
   "outputs": [],
   "source": [
    "def produksi_berkurang(x):\n",
    "    if(x<=2000):\n",
    "        nilai = 1\n",
    "    elif(x>2000 and x<7000):\n",
    "        nilai = (7000-x)/(5000)\n",
    "    elif(x>=7000):\n",
    "        nilai = 0\n",
    "\n",
    "    return nilai"
   ]
  },
  {
   "cell_type": "code",
   "execution_count": 6,
   "metadata": {},
   "outputs": [],
   "source": [
    "def produksi_bertambah(x):\n",
    "    if(x<=2000):\n",
    "        nilai = 0\n",
    "    elif(x>2000 and x<7000):\n",
    "        nilai = (x-2000)/(5000)\n",
    "    elif(x>=7000):\n",
    "        nilai = 1\n",
    "\n",
    "    return nilai"
   ]
  },
  {
   "cell_type": "code",
   "execution_count": 7,
   "metadata": {},
   "outputs": [],
   "source": [
    "def rule1(x,y):\n",
    "  if (permintaan_turun(x)<=persediaan_banyak(y)):\n",
    "    alpha = permintaan_turun(x)\n",
    "  else:\n",
    "    alpha = persediaan_banyak(y)\n",
    "\n",
    "  z = 7000-(5000 * alpha)\n",
    "  return alpha,z"
   ]
  },
  {
   "cell_type": "code",
   "execution_count": 8,
   "metadata": {},
   "outputs": [],
   "source": [
    "def rule2(x,y):\n",
    "  if (permintaan_turun(x)<=persediaan_sedikit(y)):\n",
    "    alpha = permintaan_turun(x)\n",
    "  else:\n",
    "    alpha = persediaan_sedikit(y)\n",
    "\n",
    "  z = 7000-(5000 * alpha)\n",
    "  return alpha,z"
   ]
  },
  {
   "cell_type": "code",
   "execution_count": 9,
   "metadata": {},
   "outputs": [],
   "source": [
    "def rule3(x,y):\n",
    "  if (permintaan_naik(x)<=persediaan_banyak(y)):\n",
    "    alpha = permintaan_naik(x)\n",
    "  else:\n",
    "    alpha = persediaan_banyak(y)\n",
    "\n",
    "  z = 2000+(5000 * alpha)\n",
    "  return alpha,z"
   ]
  },
  {
   "cell_type": "code",
   "execution_count": 10,
   "metadata": {},
   "outputs": [],
   "source": [
    "def rule4(x,y):\n",
    "  if (permintaan_naik(x)<=persediaan_sedikit(y)):\n",
    "    alpha = permintaan_naik(x)\n",
    "  else:\n",
    "    alpha = persediaan_sedikit(y)\n",
    "\n",
    "  z = 2000+(5000 * alpha)\n",
    "  return alpha,z"
   ]
  },
  {
   "cell_type": "code",
   "execution_count": 11,
   "metadata": {},
   "outputs": [],
   "source": [
    "def tsukamoto(x,y):\n",
    "  alpha1,z1=rule1(x,y)\n",
    "  alpha2,z2=rule2(x,y)\n",
    "  alpha3,z3=rule3(x,y)\n",
    "  alpha4,z4=rule4(x,y)\n",
    "  alpha=(alpha1*z1)+(alpha2*z2)+(alpha3*z3)+(alpha4*z4)\n",
    "  z=alpha1+alpha2+alpha3+alpha4\n",
    "  return alpha/z"
   ]
  },
  {
   "cell_type": "code",
   "execution_count": 12,
   "metadata": {},
   "outputs": [
    {
     "name": "stdout",
     "output_type": "stream",
     "text": [
      "Jika di ketahui Permintaan =  4000  dan Persediaan =  300  maka Produksi =  4983.333333333333\n"
     ]
    }
   ],
   "source": [
    "p=4000\n",
    "q=300\n",
    "\n",
    "print(\"Jika di ketahui Permintaan = \",p,\" dan Persediaan = \",q,\" maka Produksi = \",tsukamoto(p,q))"
   ]
  }
 ],
 "metadata": {
  "kernelspec": {
   "display_name": "Python 3",
   "language": "python",
   "name": "python3"
  },
  "language_info": {
   "codemirror_mode": {
    "name": "ipython",
    "version": 3
   },
   "file_extension": ".py",
   "mimetype": "text/x-python",
   "name": "python",
   "nbconvert_exporter": "python",
   "pygments_lexer": "ipython3",
   "version": "3.9.11"
  }
 },
 "nbformat": 4,
 "nbformat_minor": 2
}
