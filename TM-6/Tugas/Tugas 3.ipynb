{
 "cells": [
  {
   "cell_type": "markdown",
   "metadata": {},
   "source": [
    "Pelayanan:\n",
    "1. buruk : 3\n",
    "2. baik  : 4-6\n",
    "3. sangat baik : 8"
   ]
  },
  {
   "cell_type": "code",
   "execution_count": null,
   "metadata": {},
   "outputs": [],
   "source": [
    "def p_buruk(x):\n",
    "    if (x <= 3):\n",
    "        nilai = 1\n",
    "    elif (x > 3 and x < 4):\n",
    "        nilai = (4-x)\n",
    "    elif(x >= 4):\n",
    "        nilai = 0\n",
    "    return nilai"
   ]
  },
  {
   "cell_type": "code",
   "execution_count": null,
   "metadata": {},
   "outputs": [],
   "source": [
    "def p_baik(x):\n",
    "    if(x<=3):\n",
    "        nilai = 0\n",
    "    elif(x>3 and x<4):\n",
    "        nilai = (x-3)\n",
    "    elif(x>=4 and x<=6):\n",
    "        nilai = 1\n",
    "    elif (x>6 and x<8):\n",
    "        nilai = (8-x)/(2)\n",
    "    elif (x>=8):\n",
    "        nilai = 0\n",
    "    return nilai"
   ]
  },
  {
   "cell_type": "code",
   "execution_count": null,
   "metadata": {},
   "outputs": [],
   "source": [
    "def p_sbaik(x):\n",
    "    if(x<=6):\n",
    "        nilai = 0\n",
    "    elif(x>6 and x<8):\n",
    "        nilai = (x-6)/(2)\n",
    "    elif(x >= 8):\n",
    "        nilai = 1\n",
    "    return nilai"
   ]
  },
  {
   "cell_type": "markdown",
   "metadata": {},
   "source": [
    "Makanan:\n",
    "1. buruk : 3\n",
    "2. layak  : 5-7\n",
    "3. sangat baik : 9"
   ]
  },
  {
   "cell_type": "code",
   "execution_count": null,
   "metadata": {},
   "outputs": [],
   "source": [
    "def m_buruk(x):\n",
    "    if (x <= 3):\n",
    "        nilai = 1\n",
    "    elif (x > 3 and x < 5):\n",
    "        nilai = (5-x)/(2)\n",
    "    elif(x >= 5):\n",
    "        nilai = 0\n",
    "    return nilai"
   ]
  },
  {
   "cell_type": "code",
   "execution_count": null,
   "metadata": {},
   "outputs": [],
   "source": [
    "def m_layak(x):\n",
    "    if(x<=3):\n",
    "        nilai = 0\n",
    "    elif(x>3 and x<5):\n",
    "        nilai = (x-3)/(2)\n",
    "    elif(x>=5 and x<=7):\n",
    "        nilai = 1\n",
    "    elif (x>7 and x<9):\n",
    "        nilai = (9-x)/(2)\n",
    "    elif (x>=9):\n",
    "        nilai = 0\n",
    "    return nilai"
   ]
  },
  {
   "cell_type": "code",
   "execution_count": null,
   "metadata": {},
   "outputs": [],
   "source": [
    "def m_baik(x):\n",
    "    if(x<=7):\n",
    "        nilai = 0\n",
    "    elif(x>7 and x<9):\n",
    "        nilai = (x-7)/(2)\n",
    "    elif(x >= 9):\n",
    "        nilai = 1\n",
    "    return nilai"
   ]
  },
  {
   "cell_type": "markdown",
   "metadata": {},
   "source": [
    "Tip:\n",
    "1. rendah : 10\n",
    "2. sedang : 13-18\n",
    "3. tinggi : 20"
   ]
  },
  {
   "cell_type": "code",
   "execution_count": null,
   "metadata": {},
   "outputs": [],
   "source": [
    "def t_rendah(x):\n",
    "    if (x <= 11):\n",
    "        nilai = 1\n",
    "    elif (x > 11 and x < 13):\n",
    "        nilai = (13-x)/(2)\n",
    "    elif(x >= 13):\n",
    "        nilai = 0\n",
    "    return nilai"
   ]
  },
  {
   "cell_type": "code",
   "execution_count": null,
   "metadata": {},
   "outputs": [],
   "source": [
    "def t_sedang(x):\n",
    "    if(x<=11):\n",
    "        nilai = 0\n",
    "    elif(x>11 and x<13):\n",
    "        nilai = (x-11)/(2)\n",
    "    elif(x>=13 and x<=18):\n",
    "        nilai = 1\n",
    "    elif (x>18 and x<20):\n",
    "        nilai = (20-x)/(2)\n",
    "    elif (x>=20):\n",
    "        nilai = 0\n",
    "    return nilai"
   ]
  },
  {
   "cell_type": "code",
   "execution_count": null,
   "metadata": {},
   "outputs": [],
   "source": [
    "def t_tinggi(x):\n",
    "    if(x<=18):\n",
    "        nilai = 0\n",
    "    elif(x>18 and x<20):\n",
    "        nilai = (x-18)/(2)\n",
    "    elif(x >= 20):\n",
    "        nilai = 1\n",
    "    return nilai"
   ]
  },
  {
   "cell_type": "markdown",
   "metadata": {},
   "source": [
    "alpha*2 + 18 = (x-18)\n",
    "nilai*3 - 13 = (13-x)"
   ]
  },
  {
   "cell_type": "markdown",
   "metadata": {},
   "source": [
    "alpha*2 + 11 = x\n",
    "nilai*2 - 20 = -x"
   ]
  },
  {
   "cell_type": "code",
   "execution_count": null,
   "metadata": {},
   "outputs": [],
   "source": [
    "def rule1(x,y):\n",
    "    if (p_sbaik(x) >= m_baik(y)):\n",
    "        alpha = p_sbaik(x)\n",
    "    else:\n",
    "        alpha = m_baik(y)\n",
    "    z = 18+(2*alpha)\n",
    "    return alpha,z"
   ]
  },
  {
   "cell_type": "code",
   "execution_count": 1015,
   "metadata": {},
   "outputs": [],
   "source": [
    "def rule2(x):\n",
    "    alpha = p_baik(x)\n",
    "    # if(p_baik(x)==1):\n",
    "    #     z = x\n",
    "    if(p_baik(x)>=0.5):\n",
    "        z = 20-(alpha*2)\n",
    "    elif(p_baik(x)<0.5):\n",
    "        z = 11+(alpha*2)\n",
    "    return alpha,z"
   ]
  },
  {
   "cell_type": "code",
   "execution_count": null,
   "metadata": {},
   "outputs": [],
   "source": [
    "def rule3(x,y):\n",
    "    if (p_buruk(x) <= m_buruk(y)):\n",
    "        alpha = p_buruk(x)\n",
    "    else:\n",
    "        alpha = m_buruk(y)\n",
    "    z = 13-(alpha*2)\n",
    "    return alpha,z"
   ]
  },
  {
   "cell_type": "code",
   "execution_count": null,
   "metadata": {},
   "outputs": [],
   "source": [
    "def tsukamoto(x,y):\n",
    "  alpha1,z1=rule1(x,y)\n",
    "  alpha2,z2=rule2(x)\n",
    "  alpha3,z3=rule3(x,y)\n",
    "  alpha=(alpha1*z1)+(alpha2*z2)+(alpha3*z3)\n",
    "  z=alpha1+alpha2+alpha3\n",
    "  return alpha/z"
   ]
  },
  {
   "cell_type": "code",
   "execution_count": 1021,
   "metadata": {},
   "outputs": [
    {
     "name": "stdout",
     "output_type": "stream",
     "text": [
      "Jika di ketahui Pelayanan =  7.4  dan Kualitas Makanan =  6.8  maka Tip yang diberikan =  17.06  %\n"
     ]
    }
   ],
   "source": [
    "p=7.4\n",
    "q=6.8\n",
    "print(\"Jika di ketahui Pelayanan = \",p,\" dan Kualitas Makanan = \",q,\" maka Tip yang diberikan = \",tsukamoto(p,q), \" %\")"
   ]
  },
  {
   "cell_type": "code",
   "execution_count": null,
   "metadata": {},
   "outputs": [],
   "source": []
  }
 ],
 "metadata": {
  "kernelspec": {
   "display_name": "Python 3",
   "language": "python",
   "name": "python3"
  },
  "language_info": {
   "codemirror_mode": {
    "name": "ipython",
    "version": 3
   },
   "file_extension": ".py",
   "mimetype": "text/x-python",
   "name": "python",
   "nbconvert_exporter": "python",
   "pygments_lexer": "ipython3",
   "version": "3.9.11"
  }
 },
 "nbformat": 4,
 "nbformat_minor": 2
}
