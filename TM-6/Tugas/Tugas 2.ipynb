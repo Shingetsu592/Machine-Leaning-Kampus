{
 "cells": [
  {
   "cell_type": "code",
   "execution_count": 346,
   "metadata": {},
   "outputs": [],
   "source": [
    "def permintaan_turun(x):\n",
    "    if(x<=500):\n",
    "        nilai = 1\n",
    "    elif(x>500 and x<2000):\n",
    "        nilai = (2000-x)/(1500)\n",
    "    elif(x>=2000):\n",
    "        nilai = 0\n",
    "\n",
    "    return nilai"
   ]
  },
  {
   "cell_type": "code",
   "execution_count": 347,
   "metadata": {},
   "outputs": [],
   "source": [
    "def permintaan_sedang(x):\n",
    "    if (x<500):\n",
    "        nilai = 0\n",
    "    elif (x>500 and x<2000):\n",
    "        nilai = (x-500)/(1500)\n",
    "    elif (x >=2000 and x <= 3500):\n",
    "        nilai = 1\n",
    "    elif (x > 3500 and x < 5000):\n",
    "        nilai = (5000-x)/(1500)\n",
    "    elif (x >= 3500):\n",
    "        nilai = 0\n",
    "\n",
    "    return nilai"
   ]
  },
  {
   "cell_type": "code",
   "execution_count": 348,
   "metadata": {},
   "outputs": [],
   "source": [
    "def permintaan_naik(x):\n",
    "    if(x<=3500):\n",
    "        nilai = 0\n",
    "    elif(x>3500 and x<5000):\n",
    "        nilai = (x-3500)/(1500)\n",
    "    elif(x>=5000):\n",
    "        nilai = 1\n",
    "    return nilai"
   ]
  },
  {
   "cell_type": "code",
   "execution_count": 349,
   "metadata": {},
   "outputs": [],
   "source": [
    "def persediaan_sedikit(x):\n",
    "    if(x<=50):\n",
    "        nilai = 1\n",
    "    elif(x>50 and x<250):\n",
    "        nilai = (250-x)/(200)\n",
    "    elif(x>=250):\n",
    "        nilai = 0\n",
    "\n",
    "    return nilai"
   ]
  },
  {
   "cell_type": "code",
   "execution_count": 350,
   "metadata": {},
   "outputs": [],
   "source": [
    "def persediaan_banyak(x):\n",
    "    if(x<=50):\n",
    "        nilai = 0\n",
    "    elif(x>50 and x<250):\n",
    "        nilai = (x-50)/(200)\n",
    "    elif(x>=250):\n",
    "        nilai = 1\n",
    "\n",
    "    return nilai"
   ]
  },
  {
   "cell_type": "code",
   "execution_count": 351,
   "metadata": {},
   "outputs": [],
   "source": [
    "def produksi_berkurang(x):\n",
    "    if(x<=1000):\n",
    "        nilai = 1\n",
    "    elif(x>1000 and x<6000):\n",
    "        nilai = (6000-x)/(5000)\n",
    "    elif(x>=6000):\n",
    "        nilai = 0\n",
    "\n",
    "    return nilai"
   ]
  },
  {
   "cell_type": "code",
   "execution_count": 352,
   "metadata": {},
   "outputs": [],
   "source": [
    "def produksi_bertambah(x):\n",
    "    if(x<=1000):\n",
    "        nilai = 0\n",
    "    elif(x>1000 and x<6000):\n",
    "        nilai = (x-1000)/(5000)\n",
    "    elif(x>=6000):\n",
    "        nilai = 1\n",
    "\n",
    "    return nilai"
   ]
  },
  {
   "cell_type": "code",
   "execution_count": 353,
   "metadata": {},
   "outputs": [],
   "source": [
    "def rule1(x,y):\n",
    "  if (permintaan_turun(x)<=persediaan_banyak(y)):\n",
    "    alpha = permintaan_turun(x)\n",
    "  else:\n",
    "    alpha = persediaan_banyak(y)\n",
    "\n",
    "  z = 6000-(alpha*5000)\n",
    "  return alpha,z"
   ]
  },
  {
   "cell_type": "code",
   "execution_count": 354,
   "metadata": {},
   "outputs": [],
   "source": [
    "def rule2(x,y):\n",
    "  if (permintaan_turun(x)<=persediaan_sedikit(y)):\n",
    "    alpha = permintaan_turun(x)\n",
    "  else:\n",
    "    alpha = persediaan_sedikit(y)\n",
    "\n",
    "  z = 6000-(alpha*5000)\n",
    "  return alpha,z"
   ]
  },
  {
   "cell_type": "code",
   "execution_count": 355,
   "metadata": {},
   "outputs": [],
   "source": [
    "def rule3(x,y):\n",
    "  if (permintaan_sedang(x)<=persediaan_banyak(y)):\n",
    "    alpha = permintaan_sedang(x)\n",
    "  else:\n",
    "    alpha = persediaan_banyak(y)\n",
    "  z = 6000-(alpha*5000)\n",
    "  return alpha,z"
   ]
  },
  {
   "cell_type": "code",
   "execution_count": 356,
   "metadata": {},
   "outputs": [],
   "source": [
    "def rule4(x,y):\n",
    "  if (permintaan_sedang(x)<=persediaan_sedikit(y)):\n",
    "    alpha = permintaan_sedang(x)\n",
    "  else:\n",
    "    alpha = persediaan_sedikit(y)\n",
    "\n",
    "  z = 1000+(5000 * alpha)\n",
    "  return alpha,z"
   ]
  },
  {
   "cell_type": "code",
   "execution_count": 357,
   "metadata": {},
   "outputs": [],
   "source": [
    "def rule5(x,y):\n",
    "  if (permintaan_naik(x)<=persediaan_banyak(y)):\n",
    "    alpha = permintaan_naik(x)\n",
    "  else:\n",
    "    alpha = persediaan_banyak(y)\n",
    "\n",
    "  z = 1000+(5000 * alpha)\n",
    "  return alpha,z"
   ]
  },
  {
   "cell_type": "code",
   "execution_count": 358,
   "metadata": {},
   "outputs": [],
   "source": [
    "def rule6(x,y):\n",
    "  if (permintaan_naik(x)<=persediaan_sedikit(y)):\n",
    "    alpha = permintaan_naik(x)\n",
    "  else:\n",
    "    alpha = persediaan_sedikit(y)\n",
    "\n",
    "  z = 1000+(5000 * alpha)\n",
    "  return alpha,z"
   ]
  },
  {
   "cell_type": "code",
   "execution_count": 359,
   "metadata": {},
   "outputs": [],
   "source": [
    "def tsukamoto(x,y):\n",
    "  alpha1,z1=rule1(x,y)\n",
    "  alpha2,z2=rule2(x,y)\n",
    "  alpha3,z3=rule3(x,y)\n",
    "  alpha4,z4=rule4(x,y)\n",
    "  alpha5,z5=rule5(x,y)\n",
    "  alpha6,z6=rule6(x,y)\n",
    "  alpha=(alpha1*z1)+(alpha2*z2)+(alpha3*z3)+(alpha4*z4)+(alpha5*z5)+(alpha6*z6)\n",
    "  z=alpha1+alpha2+alpha3+alpha4+alpha5+alpha6\n",
    "  return alpha/z"
   ]
  },
  {
   "cell_type": "code",
   "execution_count": 360,
   "metadata": {},
   "outputs": [
    {
     "name": "stdout",
     "output_type": "stream",
     "text": [
      "Jika di ketahui Permintaan =  4000  dan Persediaan =  500  maka Produksi =  2666.6666666666665\n"
     ]
    }
   ],
   "source": [
    "p=4000\n",
    "q=500\n",
    "\n",
    "print(\"Jika di ketahui Permintaan = \",p,\" dan Persediaan = \",q,\" maka Produksi = \",tsukamoto(p,q))"
   ]
  }
 ],
 "metadata": {
  "kernelspec": {
   "display_name": "Python 3",
   "language": "python",
   "name": "python3"
  },
  "language_info": {
   "codemirror_mode": {
    "name": "ipython",
    "version": 3
   },
   "file_extension": ".py",
   "mimetype": "text/x-python",
   "name": "python",
   "nbconvert_exporter": "python",
   "pygments_lexer": "ipython3",
   "version": "3.9.11"
  }
 },
 "nbformat": 4,
 "nbformat_minor": 2
}
